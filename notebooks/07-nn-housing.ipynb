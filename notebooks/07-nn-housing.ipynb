{
 "cells": [
  {
   "cell_type": "markdown",
   "id": "bc438e63-06b4-489d-894c-a3e565e01d35",
   "metadata": {},
   "source": [
    "# Boston Housing Prices"
   ]
  },
  {
   "cell_type": "code",
   "execution_count": 1,
   "id": "3f467127-bb71-4f77-936c-d370c3609cb6",
   "metadata": {},
   "outputs": [],
   "source": [
    "import pandas as pd\n",
    "import numpy as np\n",
    "import matplotlib.pyplot as plt"
   ]
  },
  {
   "cell_type": "code",
   "execution_count": 2,
   "id": "b96382d9-5e76-4219-a010-56b11c270163",
   "metadata": {},
   "outputs": [
    {
     "data": {
      "text/html": [
       "<div>\n",
       "<style scoped>\n",
       "    .dataframe tbody tr th:only-of-type {\n",
       "        vertical-align: middle;\n",
       "    }\n",
       "\n",
       "    .dataframe tbody tr th {\n",
       "        vertical-align: top;\n",
       "    }\n",
       "\n",
       "    .dataframe thead th {\n",
       "        text-align: right;\n",
       "    }\n",
       "</style>\n",
       "<table border=\"1\" class=\"dataframe\">\n",
       "  <thead>\n",
       "    <tr style=\"text-align: right;\">\n",
       "      <th></th>\n",
       "      <th>CRIM</th>\n",
       "      <th>ZN</th>\n",
       "      <th>INDUS</th>\n",
       "      <th>CHAS</th>\n",
       "      <th>NOX</th>\n",
       "      <th>RM</th>\n",
       "      <th>AGE</th>\n",
       "      <th>DIS</th>\n",
       "      <th>RAD</th>\n",
       "      <th>TAX</th>\n",
       "      <th>PTRATIO</th>\n",
       "      <th>B</th>\n",
       "      <th>LSTAT</th>\n",
       "      <th>MEDV</th>\n",
       "    </tr>\n",
       "  </thead>\n",
       "  <tbody>\n",
       "    <tr>\n",
       "      <th>0</th>\n",
       "      <td>0.00632</td>\n",
       "      <td>18.0</td>\n",
       "      <td>2.31</td>\n",
       "      <td>0</td>\n",
       "      <td>0.538</td>\n",
       "      <td>6.575</td>\n",
       "      <td>65.2</td>\n",
       "      <td>4.0900</td>\n",
       "      <td>1</td>\n",
       "      <td>296.0</td>\n",
       "      <td>15.3</td>\n",
       "      <td>396.90</td>\n",
       "      <td>4.98</td>\n",
       "      <td>24.0</td>\n",
       "    </tr>\n",
       "    <tr>\n",
       "      <th>1</th>\n",
       "      <td>0.02731</td>\n",
       "      <td>0.0</td>\n",
       "      <td>7.07</td>\n",
       "      <td>0</td>\n",
       "      <td>0.469</td>\n",
       "      <td>6.421</td>\n",
       "      <td>78.9</td>\n",
       "      <td>4.9671</td>\n",
       "      <td>2</td>\n",
       "      <td>242.0</td>\n",
       "      <td>17.8</td>\n",
       "      <td>396.90</td>\n",
       "      <td>9.14</td>\n",
       "      <td>21.6</td>\n",
       "    </tr>\n",
       "    <tr>\n",
       "      <th>2</th>\n",
       "      <td>0.02729</td>\n",
       "      <td>0.0</td>\n",
       "      <td>7.07</td>\n",
       "      <td>0</td>\n",
       "      <td>0.469</td>\n",
       "      <td>7.185</td>\n",
       "      <td>61.1</td>\n",
       "      <td>4.9671</td>\n",
       "      <td>2</td>\n",
       "      <td>242.0</td>\n",
       "      <td>17.8</td>\n",
       "      <td>392.83</td>\n",
       "      <td>4.03</td>\n",
       "      <td>34.7</td>\n",
       "    </tr>\n",
       "    <tr>\n",
       "      <th>3</th>\n",
       "      <td>0.03237</td>\n",
       "      <td>0.0</td>\n",
       "      <td>2.18</td>\n",
       "      <td>0</td>\n",
       "      <td>0.458</td>\n",
       "      <td>6.998</td>\n",
       "      <td>45.8</td>\n",
       "      <td>6.0622</td>\n",
       "      <td>3</td>\n",
       "      <td>222.0</td>\n",
       "      <td>18.7</td>\n",
       "      <td>394.63</td>\n",
       "      <td>2.94</td>\n",
       "      <td>33.4</td>\n",
       "    </tr>\n",
       "    <tr>\n",
       "      <th>4</th>\n",
       "      <td>0.06905</td>\n",
       "      <td>0.0</td>\n",
       "      <td>2.18</td>\n",
       "      <td>0</td>\n",
       "      <td>0.458</td>\n",
       "      <td>7.147</td>\n",
       "      <td>54.2</td>\n",
       "      <td>6.0622</td>\n",
       "      <td>3</td>\n",
       "      <td>222.0</td>\n",
       "      <td>18.7</td>\n",
       "      <td>396.90</td>\n",
       "      <td>5.33</td>\n",
       "      <td>36.2</td>\n",
       "    </tr>\n",
       "  </tbody>\n",
       "</table>\n",
       "</div>"
      ],
      "text/plain": [
       "      CRIM    ZN  INDUS  CHAS    NOX     RM   AGE     DIS  RAD    TAX  \\\n",
       "0  0.00632  18.0   2.31     0  0.538  6.575  65.2  4.0900    1  296.0   \n",
       "1  0.02731   0.0   7.07     0  0.469  6.421  78.9  4.9671    2  242.0   \n",
       "2  0.02729   0.0   7.07     0  0.469  7.185  61.1  4.9671    2  242.0   \n",
       "3  0.03237   0.0   2.18     0  0.458  6.998  45.8  6.0622    3  222.0   \n",
       "4  0.06905   0.0   2.18     0  0.458  7.147  54.2  6.0622    3  222.0   \n",
       "\n",
       "   PTRATIO       B  LSTAT  MEDV  \n",
       "0     15.3  396.90   4.98  24.0  \n",
       "1     17.8  396.90   9.14  21.6  \n",
       "2     17.8  392.83   4.03  34.7  \n",
       "3     18.7  394.63   2.94  33.4  \n",
       "4     18.7  396.90   5.33  36.2  "
      ]
     },
     "execution_count": 2,
     "metadata": {},
     "output_type": "execute_result"
    }
   ],
   "source": [
    "df = pd.read_csv(\"../data/boston.csv\")\n",
    "df.head()"
   ]
  },
  {
   "cell_type": "code",
   "execution_count": 3,
   "id": "92878993-a8ed-4026-b163-31220ee33270",
   "metadata": {},
   "outputs": [
    {
     "data": {
      "text/plain": [
       "(506, 14)"
      ]
     },
     "execution_count": 3,
     "metadata": {},
     "output_type": "execute_result"
    }
   ],
   "source": [
    "df.shape"
   ]
  },
  {
   "cell_type": "markdown",
   "id": "f6aaa164-04af-4fe8-a894-ed2890b70510",
   "metadata": {},
   "source": [
    "## Categorical Data"
   ]
  },
  {
   "cell_type": "raw",
   "id": "8885b996-6d4e-482a-933c-1c98c63dd81c",
   "metadata": {},
   "source": [
    "CRIM: per capita crime rate by town\n",
    "ZN: proportion of residential land zoned for lots over 25,000 sq.ft.\n",
    "INDUS: proportion of non-retail business acres per town\n",
    "CHAS: Charles River dummy variable (= 1 if tract bounds river; 0 otherwise)\n",
    "NOX: nitric oxides concentration (parts per 10 million)\n",
    "RM: average number of rooms per dwelling\n",
    "AGE: proportion of owner-occupied units built prior to 1940\n",
    "DIS: weighted distances to ﬁve Boston employment centers\n",
    "RAD: index of accessibility to radial highways\n",
    "TAX: full-value property-tax rate per $10,000\n",
    "PTRATIO: pupil-teacher ratio by town\n",
    "B: 1000(Bk−0.63)2 where Bk is the proportion of blacks by town\n",
    "LSTAT: % lower status of the population\n",
    "MEDV: Median value of owner-occupied homes in $1000s"
   ]
  },
  {
   "cell_type": "code",
   "execution_count": 4,
   "id": "fdb0f586-a487-4bef-9059-5a07b9df2bae",
   "metadata": {},
   "outputs": [],
   "source": [
    "categorical_features = [\"CHAS\"]"
   ]
  },
  {
   "cell_type": "markdown",
   "id": "d4d50db2-f4c1-49a8-baa3-2fd4185d7432",
   "metadata": {},
   "source": [
    "## Checking for missing values"
   ]
  },
  {
   "cell_type": "code",
   "execution_count": 5,
   "id": "31b492bc-d4c5-4acd-890d-a391d4a9a5b3",
   "metadata": {},
   "outputs": [
    {
     "data": {
      "text/plain": [
       "CRIM       0\n",
       "ZN         0\n",
       "INDUS      0\n",
       "CHAS       0\n",
       "NOX        0\n",
       "RM         0\n",
       "AGE        0\n",
       "DIS        0\n",
       "RAD        0\n",
       "TAX        0\n",
       "PTRATIO    0\n",
       "B          0\n",
       "LSTAT      0\n",
       "MEDV       0\n",
       "dtype: int64"
      ]
     },
     "execution_count": 5,
     "metadata": {},
     "output_type": "execute_result"
    }
   ],
   "source": [
    "df.isna().sum()"
   ]
  },
  {
   "cell_type": "markdown",
   "id": "f57c3980-9fd4-4a59-9fa6-cecf29f4edff",
   "metadata": {},
   "source": [
    "## Checking for outliers"
   ]
  },
  {
   "cell_type": "code",
   "execution_count": 6,
   "id": "8f892301-2a2d-4244-84f7-0476545c6627",
   "metadata": {},
   "outputs": [
    {
     "data": {
      "image/png": "[encoded data removed]",
      "text/plain": [
       "<Figure size 640x480 with 1 Axes>"
      ]
     },
     "metadata": {},
     "output_type": "display_data"
    }
   ],
   "source": [
    "# boxplot can help us to identify outliers\n",
    "# values below or above the boxplot tails are outliers (circles)\n",
    "\n",
    "plt.boxplot(df)\n",
    "plt.show()"
   ]
  },
  {
   "cell_type": "code",
   "execution_count": 7,
   "id": "7bc989bb-112e-47fa-a704-722d1c94d9d0",
   "metadata": {},
   "outputs": [
    {
     "data": {
      "image/png": "[encoded data removed]",
      "text/plain": [
       "<Figure size 640x480 with 1 Axes>"
      ]
     },
     "metadata": {},
     "output_type": "display_data"
    }
   ],
   "source": [
    "plt.boxplot(df[[\"CHAS\"]])\n",
    "plt.show()"
   ]
  },
  {
   "cell_type": "code",
   "execution_count": 8,
   "id": "ea609838-215b-4c7a-b2bc-67bcd7a5d11b",
   "metadata": {},
   "outputs": [
    {
     "data": {
      "text/html": [
       "<div>\n",
       "<style scoped>\n",
       "    .dataframe tbody tr th:only-of-type {\n",
       "        vertical-align: middle;\n",
       "    }\n",
       "\n",
       "    .dataframe tbody tr th {\n",
       "        vertical-align: top;\n",
       "    }\n",
       "\n",
       "    .dataframe thead th {\n",
       "        text-align: right;\n",
       "    }\n",
       "</style>\n",
       "<table border=\"1\" class=\"dataframe\">\n",
       "  <thead>\n",
       "    <tr style=\"text-align: right;\">\n",
       "      <th></th>\n",
       "      <th>CHAS</th>\n",
       "    </tr>\n",
       "  </thead>\n",
       "  <tbody>\n",
       "    <tr>\n",
       "      <th>count</th>\n",
       "      <td>506.000000</td>\n",
       "    </tr>\n",
       "    <tr>\n",
       "      <th>mean</th>\n",
       "      <td>0.069170</td>\n",
       "    </tr>\n",
       "    <tr>\n",
       "      <th>std</th>\n",
       "      <td>0.253994</td>\n",
       "    </tr>\n",
       "    <tr>\n",
       "      <th>min</th>\n",
       "      <td>0.000000</td>\n",
       "    </tr>\n",
       "    <tr>\n",
       "      <th>25%</th>\n",
       "      <td>0.000000</td>\n",
       "    </tr>\n",
       "    <tr>\n",
       "      <th>50%</th>\n",
       "      <td>0.000000</td>\n",
       "    </tr>\n",
       "    <tr>\n",
       "      <th>75%</th>\n",
       "      <td>0.000000</td>\n",
       "    </tr>\n",
       "    <tr>\n",
       "      <th>max</th>\n",
       "      <td>1.000000</td>\n",
       "    </tr>\n",
       "  </tbody>\n",
       "</table>\n",
       "</div>"
      ],
      "text/plain": [
       "             CHAS\n",
       "count  506.000000\n",
       "mean     0.069170\n",
       "std      0.253994\n",
       "min      0.000000\n",
       "25%      0.000000\n",
       "50%      0.000000\n",
       "75%      0.000000\n",
       "max      1.000000"
      ]
     },
     "execution_count": 8,
     "metadata": {},
     "output_type": "execute_result"
    }
   ],
   "source": [
    "df[[\"CHAS\"]].describe()"
   ]
  },
  {
   "cell_type": "code",
   "execution_count": 9,
   "id": "3d818ab6-8c5b-41a0-8597-3ce3adc07e5e",
   "metadata": {},
   "outputs": [
    {
     "data": {
      "text/plain": [
       "CRIM       35\n",
       "ZN         35\n",
       "INDUS      35\n",
       "CHAS       35\n",
       "NOX        35\n",
       "RM         35\n",
       "AGE        35\n",
       "DIS        35\n",
       "RAD        35\n",
       "TAX        35\n",
       "PTRATIO    35\n",
       "B          35\n",
       "LSTAT      35\n",
       "MEDV       35\n",
       "dtype: int64"
      ]
     },
     "execution_count": 9,
     "metadata": {},
     "output_type": "execute_result"
    }
   ],
   "source": [
    "df[df[\"CHAS\"] == 1].count()"
   ]
  },
  {
   "cell_type": "markdown",
   "id": "b7dad3c4-9aec-474c-8f44-4090e4f1c617",
   "metadata": {},
   "source": [
    "## Removing Outliers"
   ]
  },
  {
   "cell_type": "code",
   "execution_count": 10,
   "id": "c00c00d6-7d98-40f0-8036-c52d65299a7b",
   "metadata": {
    "scrolled": true,
    "tags": []
   },
   "outputs": [
    {
     "name": "stdout",
     "output_type": "stream",
     "text": [
      "CRIM\n",
      "Lower Bound: -5.31051125\n",
      "Q1: 0.08204499999999999\n",
      "Q3: 3.6770825\n",
      "Upper Bound: 9.06963875\n",
      "------------------\n",
      "ZN\n",
      "Lower Bound: -30.0\n",
      "Q1: 0.0\n",
      "Q3: 20.0\n",
      "Upper Bound: 50.0\n",
      "------------------\n",
      "INDUS\n",
      "Lower Bound: -12.500000000000004\n",
      "Q1: 5.86\n",
      "Q3: 18.1\n",
      "Upper Bound: 36.46000000000001\n",
      "------------------\n",
      "CHAS\n",
      "NOX\n",
      "Lower Bound: 0.25250000000000006\n",
      "Q1: 0.464\n",
      "Q3: 0.605\n",
      "Upper Bound: 0.8164999999999999\n",
      "------------------\n",
      "RM\n",
      "Lower Bound: 4.919500000000001\n",
      "Q1: 5.9275\n",
      "Q3: 6.5995\n",
      "Upper Bound: 7.6075\n",
      "------------------\n",
      "AGE\n",
      "Lower Bound: -19.89999999999999\n",
      "Q1: 46.7\n",
      "Q3: 91.1\n",
      "Upper Bound: 157.7\n",
      "------------------\n",
      "DIS\n",
      "Lower Bound: -1.3859000000000008\n",
      "Q1: 2.4259\n",
      "Q3: 4.9671\n",
      "Upper Bound: 8.7789\n",
      "------------------\n",
      "RAD\n",
      "Lower Bound: -0.5\n",
      "Q1: 4.0\n",
      "Q3: 7.0\n",
      "Upper Bound: 11.5\n",
      "------------------\n",
      "TAX\n",
      "Lower Bound: 99.0\n",
      "Q1: 270.0\n",
      "Q3: 384.0\n",
      "Upper Bound: 555.0\n",
      "------------------\n",
      "PTRATIO\n",
      "Lower Bound: 12.849999999999994\n",
      "Q1: 16.9\n",
      "Q3: 19.6\n",
      "Upper Bound: 23.650000000000006\n",
      "------------------\n",
      "B\n",
      "Lower Bound: 368.9750000000001\n",
      "Q1: 385.73\n",
      "Q3: 396.9\n",
      "Upper Bound: 413.6549999999999\n",
      "------------------\n",
      "LSTAT\n",
      "Lower Bound: -2.9662500000000005\n",
      "Q1: 6.8925\n",
      "Q3: 13.465\n",
      "Upper Bound: 23.32375\n",
      "------------------\n",
      "MEDV\n",
      "Lower Bound: 11.550000000000002\n",
      "Q1: 19.725\n",
      "Q3: 25.175\n",
      "Upper Bound: 33.35\n",
      "------------------\n"
     ]
    }
   ],
   "source": [
    "# This is the IQR method applied on all columns to remove the outliers.\n",
    "\n",
    "# IQR = Q3 - Q1\n",
    "# lower_bound = Q1 - (1.5 * IQR)\n",
    "# upper_bound = Q3 + (1.5 * IQR)\n",
    "\n",
    "# anything above upper_bound and below lower_bound are outliers\n",
    "\n",
    "for col in df.columns:\n",
    "    print(col)\n",
    "    if col not in categorical_features:\n",
    "        df_col = df[[col]]\n",
    "        q1 = np.quantile(df_col, 0.25)\n",
    "        q3 = np.quantile(df_col, 0.75)\n",
    "        iqr = q3 - q1\n",
    "        lower_bound = q1 - (1.5 * iqr)\n",
    "        upper_bound = q3 + (1.5 * iqr)\n",
    "        print(f\"Lower Bound: {lower_bound}\")\n",
    "        print(f\"Q1: {q1}\")\n",
    "        print(f\"Q3: {q3}\")\n",
    "        print(f\"Upper Bound: {upper_bound}\")\n",
    "        \n",
    "        # removing the outliers\n",
    "        df = df[(df[col] >= lower_bound) & (df[col] <= upper_bound)]\n",
    "        print(\"------------------\")"
   ]
  },
  {
   "cell_type": "code",
   "execution_count": 11,
   "id": "092a7267-765e-48ad-8ee7-eb3239a69bd1",
   "metadata": {},
   "outputs": [
    {
     "data": {
      "text/plain": [
       "(231, 14)"
      ]
     },
     "execution_count": 11,
     "metadata": {},
     "output_type": "execute_result"
    }
   ],
   "source": [
    "df.shape"
   ]
  },
  {
   "cell_type": "code",
   "execution_count": 12,
   "id": "5fafe7b3-e1e0-4138-8ef4-7cb6ecf90641",
   "metadata": {},
   "outputs": [
    {
     "data": {
      "image/png": "[encoded data removed]",
      "text/plain": [
       "<Figure size 640x480 with 1 Axes>"
      ]
     },
     "metadata": {},
     "output_type": "display_data"
    }
   ],
   "source": [
    "# getting the boxplot after removing the outliers\n",
    "# since the outliers are removed, mean and std are changed, so there might be new outliers\n",
    "# even though we might have new outliers, but it should be significantly less than before\n",
    "\n",
    "plt.boxplot(df)\n",
    "plt.show()"
   ]
  },
  {
   "cell_type": "markdown",
   "id": "8a8903dc-df72-40f1-8d11-46f3775beb9c",
   "metadata": {},
   "source": [
    "## Saving Processed Dataset"
   ]
  },
  {
   "cell_type": "code",
   "execution_count": 13,
   "id": "737954a1-35be-4c14-918d-ef983f3f8161",
   "metadata": {},
   "outputs": [],
   "source": [
    "df.to_csv(\"../data/housing-clean.csv\", index=False)"
   ]
  }
 ],
 "metadata": {
  "kernelspec": {
   "display_name": "Python 3 (ipykernel)",
   "language": "python",
   "name": "python3"
  },
  "language_info": {
   "codemirror_mode": {
    "name": "ipython",
    "version": 3
   },
   "file_extension": ".py",
   "mimetype": "text/x-python",
   "name": "python",
   "nbconvert_exporter": "python",
   "pygments_lexer": "ipython3",
   "version": "3.10.11"
  }
 },
 "nbformat": 4,
 "nbformat_minor": 5
}
