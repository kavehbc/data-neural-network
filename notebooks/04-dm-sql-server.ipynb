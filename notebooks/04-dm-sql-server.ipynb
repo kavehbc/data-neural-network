{
 "cells": [
  {
   "cell_type": "markdown",
   "id": "2696c99e-a547-4ff6-b982-6bb5d1fa159b",
   "metadata": {},
   "source": [
    "# SQL Server"
   ]
  },
  {
   "cell_type": "raw",
   "id": "80bb005e-8e1c-418c-be41-bb504cce05ef",
   "metadata": {},
   "source": [
    "!pip install sqlalchemy\n",
    "!pip install pyodbc"
   ]
  },
  {
   "cell_type": "code",
   "execution_count": 22,
   "id": "8bcdf25c-4947-4369-b919-3dbf189a2387",
   "metadata": {},
   "outputs": [],
   "source": [
    "import pandas as pd\n",
    "from sqlalchemy import create_engine"
   ]
  },
  {
   "cell_type": "code",
   "execution_count": 31,
   "id": "83e536c1-9fb2-4677-a6a6-5014efe1a338",
   "metadata": {},
   "outputs": [],
   "source": [
    "username = \"sa\"\n",
    "password = \"abc12345\"\n",
    "server = \"PC15NV40\" # this is your computer name or remote IP address\n",
    "database = \"w3\" # default database name\n",
    "\n",
    "# connecting via SQL Authentication\n",
    "connection_string = f\"mssql+pyodbc://{username}:{password}@{server}/{database}?driver=ODBC+Driver+17+for+SQL+Server\"\n",
    "\n",
    "# connecting via Windows Authentication\n",
    "connection_string = f\"mssql+pyodbc://@{server}/{database}?driver=ODBC+Driver+17+for+SQL+Server\"\n",
    "\n",
    "engine = create_engine(connection_string)"
   ]
  },
  {
   "cell_type": "markdown",
   "id": "1e575882-32ff-45a7-b47b-02b910cdc2d3",
   "metadata": {},
   "source": [
    "## Fetching directly from engine"
   ]
  },
  {
   "cell_type": "code",
   "execution_count": 32,
   "id": "b8b1b8e6-ad95-4d2f-a1a9-37c1dff9dce3",
   "metadata": {
    "scrolled": true,
    "tags": []
   },
   "outputs": [
    {
     "name": "stdout",
     "output_type": "stream",
     "text": [
      "(1, 1, 'Kaveh', 'Montreal', datetime.datetime(2023, 3, 15, 9, 29, 6, 180000), 'I')\n",
      "(2, 1, 'Kaveh', 'Montreal', datetime.datetime(2023, 3, 15, 9, 35, 39, 180000), 'D')\n",
      "(3, 2, 'John', 'Vancouver', datetime.datetime(2023, 3, 15, 9, 46, 28, 127000), 'I')\n",
      "(4, 2, 'John', 'Vancouver', datetime.datetime(2023, 3, 15, 9, 47, 4, 293000), 'D')\n",
      "(5, 2, 'John', 'Toronto', datetime.datetime(2023, 3, 15, 9, 47, 4, 293000), 'I')\n"
     ]
    }
   ],
   "source": [
    "# opening the connection\n",
    "connection = engine.connect()\n",
    "\n",
    "# executing SQL query\n",
    "results = connection.execute(\"SELECT * FROM lasalle.dbo.EmployeesLog\")\n",
    "\n",
    "# fetching records\n",
    "rows = results.fetchall()\n",
    "\n",
    "# loop through records to print\n",
    "for row in rows:\n",
    "    print(row)\n",
    "\n",
    "# closing the connection\n",
    "connection.close()"
   ]
  },
  {
   "cell_type": "markdown",
   "id": "c174dfe0-602f-44df-8f60-a2bfa9826332",
   "metadata": {},
   "source": [
    "## Fetching via Pandas"
   ]
  },
  {
   "cell_type": "code",
   "execution_count": 33,
   "id": "8558eb2e-a124-47e7-ba9b-757fbc6a41db",
   "metadata": {},
   "outputs": [
    {
     "data": {
      "text/html": [
       "<div>\n",
       "<style scoped>\n",
       "    .dataframe tbody tr th:only-of-type {\n",
       "        vertical-align: middle;\n",
       "    }\n",
       "\n",
       "    .dataframe tbody tr th {\n",
       "        vertical-align: top;\n",
       "    }\n",
       "\n",
       "    .dataframe thead th {\n",
       "        text-align: right;\n",
       "    }\n",
       "</style>\n",
       "<table border=\"1\" class=\"dataframe\">\n",
       "  <thead>\n",
       "    <tr style=\"text-align: right;\">\n",
       "      <th></th>\n",
       "      <th>ProductID</th>\n",
       "      <th>ProductName</th>\n",
       "      <th>SupplierID</th>\n",
       "      <th>CategoryID</th>\n",
       "      <th>Unit</th>\n",
       "      <th>Price</th>\n",
       "    </tr>\n",
       "  </thead>\n",
       "  <tbody>\n",
       "    <tr>\n",
       "      <th>0</th>\n",
       "      <td>1</td>\n",
       "      <td>Chais</td>\n",
       "      <td>1</td>\n",
       "      <td>1</td>\n",
       "      <td>10 boxes x 20 bags</td>\n",
       "      <td>20.00</td>\n",
       "    </tr>\n",
       "    <tr>\n",
       "      <th>1</th>\n",
       "      <td>2</td>\n",
       "      <td>Chang</td>\n",
       "      <td>1</td>\n",
       "      <td>1</td>\n",
       "      <td>24 - 12 oz bottles</td>\n",
       "      <td>19.00</td>\n",
       "    </tr>\n",
       "    <tr>\n",
       "      <th>2</th>\n",
       "      <td>3</td>\n",
       "      <td>Aniseed Syrup</td>\n",
       "      <td>1</td>\n",
       "      <td>2</td>\n",
       "      <td>12 - 550 ml bottles</td>\n",
       "      <td>10.00</td>\n",
       "    </tr>\n",
       "    <tr>\n",
       "      <th>3</th>\n",
       "      <td>4</td>\n",
       "      <td>Chef Anton's Cajun Seasoning</td>\n",
       "      <td>2</td>\n",
       "      <td>2</td>\n",
       "      <td>48 - 6 oz jars</td>\n",
       "      <td>22.00</td>\n",
       "    </tr>\n",
       "    <tr>\n",
       "      <th>4</th>\n",
       "      <td>5</td>\n",
       "      <td>Chef Anton's Gumbo Mix</td>\n",
       "      <td>2</td>\n",
       "      <td>2</td>\n",
       "      <td>36 boxes</td>\n",
       "      <td>21.35</td>\n",
       "    </tr>\n",
       "  </tbody>\n",
       "</table>\n",
       "</div>"
      ],
      "text/plain": [
       "   ProductID                   ProductName  SupplierID  CategoryID  \\\n",
       "0          1                         Chais           1           1   \n",
       "1          2                         Chang           1           1   \n",
       "2          3                 Aniseed Syrup           1           2   \n",
       "3          4  Chef Anton's Cajun Seasoning           2           2   \n",
       "4          5        Chef Anton's Gumbo Mix           2           2   \n",
       "\n",
       "                  Unit  Price  \n",
       "0   10 boxes x 20 bags  20.00  \n",
       "1   24 - 12 oz bottles  19.00  \n",
       "2  12 - 550 ml bottles  10.00  \n",
       "3       48 - 6 oz jars  22.00  \n",
       "4             36 boxes  21.35  "
      ]
     },
     "execution_count": 33,
     "metadata": {},
     "output_type": "execute_result"
    }
   ],
   "source": [
    "df = pd.read_sql(\"SELECT * FROM products WHERE Price > 50\", engine)\n",
    "df.head()"
   ]
  },
  {
   "cell_type": "raw",
   "id": "85092aad-2a1e-45b1-a453-98a3d01f9492",
   "metadata": {},
   "source": [
    "df.to_csv(\"../data/sample_data.csv\")"
   ]
  }
 ],
 "metadata": {
  "kernelspec": {
   "display_name": "Python 3 (ipykernel)",
   "language": "python",
   "name": "python3"
  },
  "language_info": {
   "codemirror_mode": {
    "name": "ipython",
    "version": 3
   },
   "file_extension": ".py",
   "mimetype": "text/x-python",
   "name": "python",
   "nbconvert_exporter": "python",
   "pygments_lexer": "ipython3",
   "version": "3.10.13"
  }
 },
 "nbformat": 4,
 "nbformat_minor": 5
}
