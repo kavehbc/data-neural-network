{
 "cells": [
  {
   "cell_type": "markdown",
   "id": "102ec8cc-deab-449f-a464-b703d999c737",
   "metadata": {},
   "source": [
    "# Steps"
   ]
  },
  {
   "cell_type": "markdown",
   "id": "bedfd562-262f-4d74-8f2d-85433088d726",
   "metadata": {},
   "source": [
    "### Data Engineers / Data Analysts\n",
    "\n",
    "**1. Looking at the data:** To see how you data look like. Is it mostly text, numbers, etc.\n",
    "\n",
    "**2. Understand the data:** We should understand the data features, columns, and what they are representing. If needed, we should ask the experts in the field to get proper explanation.\n",
    "\n",
    "**3. Checking data types:** We should check if the data types are correct. If the numbers are actually in a number format, or if dates are either in date/time format or a string.\n",
    "\n",
    "**4. Finding categorical features:** Spotting which features are categorical, and which features are not.\n",
    "\n",
    "**5. Feature engineering:** Adding/Generating more features\n",
    "\n",
    "**6. Descriptive Analysis:** Looking at mean, median, standard deviation, quantiles, distributions, plots, outliers, size of data\n",
    "\n",
    "**7. Looking for missing data:** How much missing data exist, and which features have those missing values\n",
    "\n",
    "### Data Analysts\n",
    "\n",
    "**8. Running statistical analysis (optional):** correlations, t-tests, anova, linear regression, other simple machine learning models, etc.\n",
    "\n",
    "### Data Sceince Only\n",
    "\n",
    "**9. Data Cleaning:** Removing unneccessary features, handling missing data, fixing data types, removing outliers\n",
    "\n",
    "**10. Data Transformation:** Log Transformation, Data Scaling, One-Hot Encoder on categorical data, etc.\n",
    "\n",
    "**11. Spliting Data:** Spliting data into Train / Test, & Validation (Optional)\n",
    "\n",
    "**12. Machine Learning Training (Fit):** Training the model\n",
    "\n",
    "**13. Hyper-parameter tuning:** Finding better (best) hyper-parameter values\n",
    "\n",
    "**14. Evaluation:** Understanding how good or bad the model is. Checking the accuracy (for Classification), and Error (for Regression) metrics\n",
    "\n",
    "### MLOPs / ML Engineers\n",
    "\n",
    "**15. Saving models/encoders/scalers (or pipeline):** Saving all the objects that was used for the how\n",
    "\n",
    "**16. Deployment:** How end-user is going to use the models\n",
    "\n",
    "### Software/ML Developers\n",
    "\n",
    "**17. Development:** Developing a software on top of the models"
   ]
  },
  {
   "cell_type": "code",
   "execution_count": null,
   "id": "5c354511-ebe2-447d-9890-d816c5a41016",
   "metadata": {},
   "outputs": [],
   "source": []
  }
 ],
 "metadata": {
  "kernelspec": {
   "display_name": "Python 3 (ipykernel)",
   "language": "python",
   "name": "python3"
  },
  "language_info": {
   "codemirror_mode": {
    "name": "ipython",
    "version": 3
   },
   "file_extension": ".py",
   "mimetype": "text/x-python",
   "name": "python",
   "nbconvert_exporter": "python",
   "pygments_lexer": "ipython3",
   "version": "3.10.11"
  }
 },
 "nbformat": 4,
 "nbformat_minor": 5
}
