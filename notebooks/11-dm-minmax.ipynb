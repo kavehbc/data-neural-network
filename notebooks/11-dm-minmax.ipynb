{
 "cells": [
  {
   "cell_type": "markdown",
   "id": "fd3c5e17-8fef-4a02-97a5-ea860ed85c1f",
   "metadata": {},
   "source": [
    "# Titatnic - Manual MinMaxScaler"
   ]
  },
  {
   "cell_type": "code",
   "execution_count": 99,
   "id": "a2421035-a326-4f16-87bf-7117ecc0e8fe",
   "metadata": {},
   "outputs": [],
   "source": [
    "import pandas as pd\n",
    "import numpy as np\n",
    "import pickle"
   ]
  },
  {
   "cell_type": "code",
   "execution_count": 100,
   "id": "af7ca3e4-5428-4af4-a3b0-e5a41b78c921",
   "metadata": {},
   "outputs": [
    {
     "data": {
      "text/html": [
       "<div>\n",
       "<style scoped>\n",
       "    .dataframe tbody tr th:only-of-type {\n",
       "        vertical-align: middle;\n",
       "    }\n",
       "\n",
       "    .dataframe tbody tr th {\n",
       "        vertical-align: top;\n",
       "    }\n",
       "\n",
       "    .dataframe thead th {\n",
       "        text-align: right;\n",
       "    }\n",
       "</style>\n",
       "<table border=\"1\" class=\"dataframe\">\n",
       "  <thead>\n",
       "    <tr style=\"text-align: right;\">\n",
       "      <th></th>\n",
       "      <th>PassengerId</th>\n",
       "      <th>Survived</th>\n",
       "      <th>Pclass</th>\n",
       "      <th>Name</th>\n",
       "      <th>Sex</th>\n",
       "      <th>Age</th>\n",
       "      <th>SibSp</th>\n",
       "      <th>Parch</th>\n",
       "      <th>Ticket</th>\n",
       "      <th>Fare</th>\n",
       "      <th>Embarked</th>\n",
       "    </tr>\n",
       "  </thead>\n",
       "  <tbody>\n",
       "    <tr>\n",
       "      <th>0</th>\n",
       "      <td>1</td>\n",
       "      <td>0</td>\n",
       "      <td>3</td>\n",
       "      <td>Braund, Mr. Owen Harris</td>\n",
       "      <td>male</td>\n",
       "      <td>22.0</td>\n",
       "      <td>1</td>\n",
       "      <td>0</td>\n",
       "      <td>A/5 21171</td>\n",
       "      <td>7.2500</td>\n",
       "      <td>S</td>\n",
       "    </tr>\n",
       "    <tr>\n",
       "      <th>1</th>\n",
       "      <td>2</td>\n",
       "      <td>1</td>\n",
       "      <td>1</td>\n",
       "      <td>Cumings, Mrs. John Bradley (Florence Briggs Th...</td>\n",
       "      <td>female</td>\n",
       "      <td>38.0</td>\n",
       "      <td>1</td>\n",
       "      <td>0</td>\n",
       "      <td>PC 17599</td>\n",
       "      <td>71.2833</td>\n",
       "      <td>C</td>\n",
       "    </tr>\n",
       "    <tr>\n",
       "      <th>2</th>\n",
       "      <td>3</td>\n",
       "      <td>1</td>\n",
       "      <td>3</td>\n",
       "      <td>Heikkinen, Miss. Laina</td>\n",
       "      <td>female</td>\n",
       "      <td>26.0</td>\n",
       "      <td>0</td>\n",
       "      <td>0</td>\n",
       "      <td>STON/O2. 3101282</td>\n",
       "      <td>7.9250</td>\n",
       "      <td>S</td>\n",
       "    </tr>\n",
       "    <tr>\n",
       "      <th>3</th>\n",
       "      <td>4</td>\n",
       "      <td>1</td>\n",
       "      <td>1</td>\n",
       "      <td>Futrelle, Mrs. Jacques Heath (Lily May Peel)</td>\n",
       "      <td>female</td>\n",
       "      <td>35.0</td>\n",
       "      <td>1</td>\n",
       "      <td>0</td>\n",
       "      <td>113803</td>\n",
       "      <td>53.1000</td>\n",
       "      <td>S</td>\n",
       "    </tr>\n",
       "    <tr>\n",
       "      <th>4</th>\n",
       "      <td>5</td>\n",
       "      <td>0</td>\n",
       "      <td>3</td>\n",
       "      <td>Allen, Mr. William Henry</td>\n",
       "      <td>male</td>\n",
       "      <td>35.0</td>\n",
       "      <td>0</td>\n",
       "      <td>0</td>\n",
       "      <td>373450</td>\n",
       "      <td>8.0500</td>\n",
       "      <td>S</td>\n",
       "    </tr>\n",
       "  </tbody>\n",
       "</table>\n",
       "</div>"
      ],
      "text/plain": [
       "   PassengerId  Survived  Pclass  \\\n",
       "0            1         0       3   \n",
       "1            2         1       1   \n",
       "2            3         1       3   \n",
       "3            4         1       1   \n",
       "4            5         0       3   \n",
       "\n",
       "                                                Name     Sex   Age  SibSp  \\\n",
       "0                            Braund, Mr. Owen Harris    male  22.0      1   \n",
       "1  Cumings, Mrs. John Bradley (Florence Briggs Th...  female  38.0      1   \n",
       "2                             Heikkinen, Miss. Laina  female  26.0      0   \n",
       "3       Futrelle, Mrs. Jacques Heath (Lily May Peel)  female  35.0      1   \n",
       "4                           Allen, Mr. William Henry    male  35.0      0   \n",
       "\n",
       "   Parch            Ticket     Fare Embarked  \n",
       "0      0         A/5 21171   7.2500        S  \n",
       "1      0          PC 17599  71.2833        C  \n",
       "2      0  STON/O2. 3101282   7.9250        S  \n",
       "3      0            113803  53.1000        S  \n",
       "4      0            373450   8.0500        S  "
      ]
     },
     "execution_count": 100,
     "metadata": {},
     "output_type": "execute_result"
    }
   ],
   "source": [
    "df = pd.read_csv(\"../data/titanic-clean.csv\")\n",
    "df.head()"
   ]
  },
  {
   "cell_type": "markdown",
   "id": "f67f556e-2910-4a78-a31e-d8cefe9f66b4",
   "metadata": {},
   "source": [
    "## Apply()"
   ]
  },
  {
   "cell_type": "raw",
   "id": "b6dfbc83-21dc-406c-a774-79772917f80e",
   "metadata": {},
   "source": [
    "columns_to_scale = [\"Age\", \"SibSp\", \"Fare\"]\n",
    "\n",
    "for col in columns_to_scale:\n",
    "    df[col] = df[col].apply(lambda x: (x - df[col].min()) / (df[col].max() - df[col].min()))\n",
    "    \n",
    "df.head()"
   ]
  },
  {
   "cell_type": "markdown",
   "id": "31542a26-8ede-4762-945e-05f7ad6c0795",
   "metadata": {},
   "source": [
    "## Class Implementation"
   ]
  },
  {
   "cell_type": "code",
   "execution_count": 101,
   "id": "07dece9e-af86-4f25-ac98-10c51cf44ee5",
   "metadata": {},
   "outputs": [],
   "source": [
    "class MinMaxScaler():\n",
    "    \n",
    "    def __init__(self, clip=False):\n",
    "        self.clip = clip\n",
    "        self.minmax = {}\n",
    "        \n",
    "    def fit(self, df):\n",
    "        for col in df.columns:\n",
    "            self.minmax[col] = {\"min\": df[col].min(),\n",
    "                                \"max\": df[col].max()}\n",
    "        \n",
    "    def transform(self, df):\n",
    "        df_transformed_1 = df.copy()\n",
    "        df_transformed_2 = df.copy()\n",
    "        \n",
    "        if self.clip:\n",
    "            for col in df.columns:\n",
    "                df_transformed_1[col] = np.where(df[col] < self.minmax[col][\"min\"], self.minmax[col][\"min\"], df[col])\n",
    "                df_transformed_1[col] = np.where(df[col] > self.minmax[col][\"max\"], self.minmax[col][\"max\"], df[col])\n",
    "\n",
    "        for col in df_transformed_1.columns:\n",
    "            df_transformed_2[col] = df_transformed_1[col].apply(lambda x: (x - self.minmax[col][\"min\"])/(self.minmax[col][\"max\"] - self.minmax[col][\"min\"]))\n",
    "        return df_transformed_2\n",
    "    \n",
    "    def fit_transform(self, df):\n",
    "        self.fit(df)\n",
    "        df_transformed = self.transform(df)\n",
    "        return df_transformed\n",
    "        "
   ]
  },
  {
   "cell_type": "code",
   "execution_count": 102,
   "id": "2acd3d31-0c43-403f-b136-64ed970ec424",
   "metadata": {},
   "outputs": [
    {
     "data": {
      "text/plain": [
       "{'Age': {'min': 0.42, 'max': 80.0},\n",
       " 'SibSp': {'min': 0, 'max': 8},\n",
       " 'Fare': {'min': 0.0, 'max': 512.3292}}"
      ]
     },
     "execution_count": 102,
     "metadata": {},
     "output_type": "execute_result"
    }
   ],
   "source": [
    "columns_to_scale = [\"Age\", \"SibSp\", \"Fare\"]\n",
    "\n",
    "scaler = MinMaxScaler(clip=False)\n",
    "\n",
    "scaler.fit(df[columns_to_scale])\n",
    "scaler.minmax"
   ]
  },
  {
   "cell_type": "code",
   "execution_count": 103,
   "id": "06c6cc2d-a97a-40f5-bad8-8ed75c751503",
   "metadata": {},
   "outputs": [],
   "source": [
    "df_transformed = scaler.transform(df[columns_to_scale])"
   ]
  },
  {
   "cell_type": "code",
   "execution_count": 104,
   "id": "797a6dcb-6f44-4922-890f-87a4fd99480d",
   "metadata": {},
   "outputs": [
    {
     "data": {
      "text/html": [
       "<div>\n",
       "<style scoped>\n",
       "    .dataframe tbody tr th:only-of-type {\n",
       "        vertical-align: middle;\n",
       "    }\n",
       "\n",
       "    .dataframe tbody tr th {\n",
       "        vertical-align: top;\n",
       "    }\n",
       "\n",
       "    .dataframe thead th {\n",
       "        text-align: right;\n",
       "    }\n",
       "</style>\n",
       "<table border=\"1\" class=\"dataframe\">\n",
       "  <thead>\n",
       "    <tr style=\"text-align: right;\">\n",
       "      <th></th>\n",
       "      <th>Age</th>\n",
       "      <th>SibSp</th>\n",
       "      <th>Fare</th>\n",
       "    </tr>\n",
       "  </thead>\n",
       "  <tbody>\n",
       "    <tr>\n",
       "      <th>count</th>\n",
       "      <td>889.000000</td>\n",
       "      <td>889.000000</td>\n",
       "      <td>889.000000</td>\n",
       "    </tr>\n",
       "    <tr>\n",
       "      <th>mean</th>\n",
       "      <td>0.365866</td>\n",
       "      <td>0.065523</td>\n",
       "      <td>0.062649</td>\n",
       "    </tr>\n",
       "    <tr>\n",
       "      <th>std</th>\n",
       "      <td>0.182552</td>\n",
       "      <td>0.137963</td>\n",
       "      <td>0.097003</td>\n",
       "    </tr>\n",
       "    <tr>\n",
       "      <th>min</th>\n",
       "      <td>0.000000</td>\n",
       "      <td>0.000000</td>\n",
       "      <td>0.000000</td>\n",
       "    </tr>\n",
       "    <tr>\n",
       "      <th>25%</th>\n",
       "      <td>0.246042</td>\n",
       "      <td>0.000000</td>\n",
       "      <td>0.015412</td>\n",
       "    </tr>\n",
       "    <tr>\n",
       "      <th>50%</th>\n",
       "      <td>0.346569</td>\n",
       "      <td>0.000000</td>\n",
       "      <td>0.028213</td>\n",
       "    </tr>\n",
       "    <tr>\n",
       "      <th>75%</th>\n",
       "      <td>0.472229</td>\n",
       "      <td>0.125000</td>\n",
       "      <td>0.060508</td>\n",
       "    </tr>\n",
       "    <tr>\n",
       "      <th>max</th>\n",
       "      <td>1.000000</td>\n",
       "      <td>1.000000</td>\n",
       "      <td>1.000000</td>\n",
       "    </tr>\n",
       "  </tbody>\n",
       "</table>\n",
       "</div>"
      ],
      "text/plain": [
       "              Age       SibSp        Fare\n",
       "count  889.000000  889.000000  889.000000\n",
       "mean     0.365866    0.065523    0.062649\n",
       "std      0.182552    0.137963    0.097003\n",
       "min      0.000000    0.000000    0.000000\n",
       "25%      0.246042    0.000000    0.015412\n",
       "50%      0.346569    0.000000    0.028213\n",
       "75%      0.472229    0.125000    0.060508\n",
       "max      1.000000    1.000000    1.000000"
      ]
     },
     "execution_count": 104,
     "metadata": {},
     "output_type": "execute_result"
    }
   ],
   "source": [
    "df_transformed.describe()"
   ]
  },
  {
   "cell_type": "code",
   "execution_count": 105,
   "id": "95842c96-8927-4fa9-ad9c-99baf9ced9d0",
   "metadata": {},
   "outputs": [
    {
     "data": {
      "text/html": [
       "<div>\n",
       "<style scoped>\n",
       "    .dataframe tbody tr th:only-of-type {\n",
       "        vertical-align: middle;\n",
       "    }\n",
       "\n",
       "    .dataframe tbody tr th {\n",
       "        vertical-align: top;\n",
       "    }\n",
       "\n",
       "    .dataframe thead th {\n",
       "        text-align: right;\n",
       "    }\n",
       "</style>\n",
       "<table border=\"1\" class=\"dataframe\">\n",
       "  <thead>\n",
       "    <tr style=\"text-align: right;\">\n",
       "      <th></th>\n",
       "      <th>Age</th>\n",
       "      <th>SibSp</th>\n",
       "      <th>Fare</th>\n",
       "    </tr>\n",
       "  </thead>\n",
       "  <tbody>\n",
       "    <tr>\n",
       "      <th>0</th>\n",
       "      <td>1.0</td>\n",
       "      <td>0.5</td>\n",
       "      <td>0.390374</td>\n",
       "    </tr>\n",
       "  </tbody>\n",
       "</table>\n",
       "</div>"
      ],
      "text/plain": [
       "   Age  SibSp      Fare\n",
       "0  1.0    0.5  0.390374"
      ]
     },
     "execution_count": 105,
     "metadata": {},
     "output_type": "execute_result"
    }
   ],
   "source": [
    "df_test = pd.DataFrame(data=[{\"Age\":100, \"SibSp\": 4, \"Fare\": 200}])\n",
    "scaler.clip = True\n",
    "scaler.transform(df_test)"
   ]
  },
  {
   "cell_type": "markdown",
   "id": "35f62230-56e7-48aa-b310-e8764175e3d7",
   "metadata": {},
   "source": [
    "## Pickle"
   ]
  },
  {
   "cell_type": "code",
   "execution_count": 106,
   "id": "eddfbcf6-bb90-487a-a463-4c9fa602d1f6",
   "metadata": {},
   "outputs": [],
   "source": [
    "# saving an object\n",
    "pickle.dump(scaler, open(\"../object/scaler.pkl\", \"wb\"))"
   ]
  },
  {
   "cell_type": "code",
   "execution_count": 107,
   "id": "3efd17ff-c7d1-42ac-8bbd-bdc43f2e16f9",
   "metadata": {},
   "outputs": [],
   "source": [
    "# loading an object\n",
    "new_scaler = pickle.load(open(\"../object/scaler.pkl\", \"rb\"))"
   ]
  },
  {
   "cell_type": "code",
   "execution_count": 108,
   "id": "3841bfb3-9140-4fae-8877-c2bcc28fc4f2",
   "metadata": {},
   "outputs": [
    {
     "data": {
      "text/plain": [
       "{'Age': {'min': 0.42, 'max': 80.0},\n",
       " 'SibSp': {'min': 0, 'max': 8},\n",
       " 'Fare': {'min': 0.0, 'max': 512.3292}}"
      ]
     },
     "execution_count": 108,
     "metadata": {},
     "output_type": "execute_result"
    }
   ],
   "source": [
    "new_scaler.minmax"
   ]
  },
  {
   "cell_type": "code",
   "execution_count": 110,
   "id": "6fb3eff1-6974-458c-b901-f5ed757946f5",
   "metadata": {},
   "outputs": [
    {
     "data": {
      "text/html": [
       "<div>\n",
       "<style scoped>\n",
       "    .dataframe tbody tr th:only-of-type {\n",
       "        vertical-align: middle;\n",
       "    }\n",
       "\n",
       "    .dataframe tbody tr th {\n",
       "        vertical-align: top;\n",
       "    }\n",
       "\n",
       "    .dataframe thead th {\n",
       "        text-align: right;\n",
       "    }\n",
       "</style>\n",
       "<table border=\"1\" class=\"dataframe\">\n",
       "  <thead>\n",
       "    <tr style=\"text-align: right;\">\n",
       "      <th></th>\n",
       "      <th>Age</th>\n",
       "      <th>SibSp</th>\n",
       "      <th>Fare</th>\n",
       "    </tr>\n",
       "  </thead>\n",
       "  <tbody>\n",
       "    <tr>\n",
       "      <th>0</th>\n",
       "      <td>1.251319</td>\n",
       "      <td>0.5</td>\n",
       "      <td>0.390374</td>\n",
       "    </tr>\n",
       "  </tbody>\n",
       "</table>\n",
       "</div>"
      ],
      "text/plain": [
       "        Age  SibSp      Fare\n",
       "0  1.251319    0.5  0.390374"
      ]
     },
     "execution_count": 110,
     "metadata": {},
     "output_type": "execute_result"
    }
   ],
   "source": [
    "df_test = pd.DataFrame(data=[{\"Age\":100, \"SibSp\": 4, \"Fare\": 200}])\n",
    "new_scaler.clip = False\n",
    "new_scaler.transform(df_test)"
   ]
  },
  {
   "cell_type": "code",
   "execution_count": null,
   "id": "0eb1e9da-14cf-42ad-a877-bdfe75486791",
   "metadata": {},
   "outputs": [],
   "source": []
  }
 ],
 "metadata": {
  "kernelspec": {
   "display_name": "Python 3 (ipykernel)",
   "language": "python",
   "name": "python3"
  },
  "language_info": {
   "codemirror_mode": {
    "name": "ipython",
    "version": 3
   },
   "file_extension": ".py",
   "mimetype": "text/x-python",
   "name": "python",
   "nbconvert_exporter": "python",
   "pygments_lexer": "ipython3",
   "version": "3.10.11"
  }
 },
 "nbformat": 4,
 "nbformat_minor": 5
}
