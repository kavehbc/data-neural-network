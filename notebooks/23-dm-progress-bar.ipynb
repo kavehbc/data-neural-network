{
 "cells": [
  {
   "cell_type": "markdown",
   "id": "38c80086-0b83-438f-8440-5d69a845a339",
   "metadata": {},
   "source": [
    "# Progress Bar"
   ]
  },
  {
   "cell_type": "raw",
   "id": "d53e199a-9670-4898-ac05-23ae70af3fea",
   "metadata": {},
   "source": [
    "!pip install tqdm\n",
    "!pip install pandarallel"
   ]
  },
  {
   "cell_type": "code",
   "execution_count": 1,
   "id": "ca706a52-e784-49d4-a57f-47d79ef1b9d2",
   "metadata": {},
   "outputs": [],
   "source": [
    "# for console output\n",
    "# from tqdm import tqdm\n",
    "\n",
    "# for jupyter notebook\n",
    "from tqdm.notebook import tqdm\n",
    "\n",
    "import pandas as pd\n",
    "from pandarallel import pandarallel\n",
    "\n",
    "import time"
   ]
  },
  {
   "cell_type": "code",
   "execution_count": 2,
   "id": "4dccfcf8-bc29-4b9f-9c68-5920ac2980e6",
   "metadata": {
    "scrolled": true,
    "tags": []
   },
   "outputs": [
    {
     "data": {
      "application/vnd.jupyter.widget-view+json": {
       "model_id": "979f1c6c044f4bcc9ed4b6c1d814be26",
       "version_major": 2,
       "version_minor": 0
      },
      "text/plain": [
       "  0%|          | 0/100 [00:00<?, ?it/s]"
      ]
     },
     "metadata": {},
     "output_type": "display_data"
    },
    {
     "name": "stdout",
     "output_type": "stream",
     "text": [
      "4950\n"
     ]
    }
   ],
   "source": [
    "j = 0\n",
    "for i in tqdm(range(100)):\n",
    "    j += i\n",
    "    time.sleep(1)\n",
    "    \n",
    "print(j)"
   ]
  },
  {
   "cell_type": "markdown",
   "id": "9782830e-708f-4976-924b-987788ee42a2",
   "metadata": {},
   "source": [
    "If you get error on displaying the progress bar:\n",
    "\n",
    "```bash\n",
    "pip uninstall ipywidgets\n",
    "pip install ipywidgets\n",
    "```"
   ]
  },
  {
   "cell_type": "markdown",
   "id": "2ba0138d-034b-4b7c-94da-8593065cb030",
   "metadata": {},
   "source": [
    "# Dataframe"
   ]
  },
  {
   "cell_type": "markdown",
   "id": "87cf507f-9431-4806-bde7-3fdff5b4b1ec",
   "metadata": {},
   "source": [
    "About dataset:\n",
    "    https://www.kaggle.com/datasets/lakshmi25npathi/bike-sharing-dataset"
   ]
  },
  {
   "cell_type": "code",
   "execution_count": 3,
   "id": "af38134c-60fc-4325-a51a-25df0b58586b",
   "metadata": {},
   "outputs": [
    {
     "data": {
      "text/html": [
       "<div>\n",
       "<style scoped>\n",
       "    .dataframe tbody tr th:only-of-type {\n",
       "        vertical-align: middle;\n",
       "    }\n",
       "\n",
       "    .dataframe tbody tr th {\n",
       "        vertical-align: top;\n",
       "    }\n",
       "\n",
       "    .dataframe thead th {\n",
       "        text-align: right;\n",
       "    }\n",
       "</style>\n",
       "<table border=\"1\" class=\"dataframe\">\n",
       "  <thead>\n",
       "    <tr style=\"text-align: right;\">\n",
       "      <th></th>\n",
       "      <th>datetime</th>\n",
       "      <th>season</th>\n",
       "      <th>holiday</th>\n",
       "      <th>workingday</th>\n",
       "      <th>weather</th>\n",
       "      <th>temp</th>\n",
       "      <th>atemp</th>\n",
       "      <th>humidity</th>\n",
       "      <th>windspeed</th>\n",
       "      <th>casual</th>\n",
       "      <th>registered</th>\n",
       "      <th>count</th>\n",
       "    </tr>\n",
       "  </thead>\n",
       "  <tbody>\n",
       "    <tr>\n",
       "      <th>0</th>\n",
       "      <td>2011-01-01 00:00:00</td>\n",
       "      <td>1</td>\n",
       "      <td>0</td>\n",
       "      <td>0</td>\n",
       "      <td>1</td>\n",
       "      <td>9.84</td>\n",
       "      <td>14.395</td>\n",
       "      <td>81</td>\n",
       "      <td>0.0</td>\n",
       "      <td>3</td>\n",
       "      <td>13</td>\n",
       "      <td>16</td>\n",
       "    </tr>\n",
       "    <tr>\n",
       "      <th>1</th>\n",
       "      <td>2011-01-01 01:00:00</td>\n",
       "      <td>1</td>\n",
       "      <td>0</td>\n",
       "      <td>0</td>\n",
       "      <td>1</td>\n",
       "      <td>9.02</td>\n",
       "      <td>13.635</td>\n",
       "      <td>80</td>\n",
       "      <td>0.0</td>\n",
       "      <td>8</td>\n",
       "      <td>32</td>\n",
       "      <td>40</td>\n",
       "    </tr>\n",
       "    <tr>\n",
       "      <th>2</th>\n",
       "      <td>2011-01-01 02:00:00</td>\n",
       "      <td>1</td>\n",
       "      <td>0</td>\n",
       "      <td>0</td>\n",
       "      <td>1</td>\n",
       "      <td>9.02</td>\n",
       "      <td>13.635</td>\n",
       "      <td>80</td>\n",
       "      <td>0.0</td>\n",
       "      <td>5</td>\n",
       "      <td>27</td>\n",
       "      <td>32</td>\n",
       "    </tr>\n",
       "    <tr>\n",
       "      <th>3</th>\n",
       "      <td>2011-01-01 03:00:00</td>\n",
       "      <td>1</td>\n",
       "      <td>0</td>\n",
       "      <td>0</td>\n",
       "      <td>1</td>\n",
       "      <td>9.84</td>\n",
       "      <td>14.395</td>\n",
       "      <td>75</td>\n",
       "      <td>0.0</td>\n",
       "      <td>3</td>\n",
       "      <td>10</td>\n",
       "      <td>13</td>\n",
       "    </tr>\n",
       "    <tr>\n",
       "      <th>4</th>\n",
       "      <td>2011-01-01 04:00:00</td>\n",
       "      <td>1</td>\n",
       "      <td>0</td>\n",
       "      <td>0</td>\n",
       "      <td>1</td>\n",
       "      <td>9.84</td>\n",
       "      <td>14.395</td>\n",
       "      <td>75</td>\n",
       "      <td>0.0</td>\n",
       "      <td>0</td>\n",
       "      <td>1</td>\n",
       "      <td>1</td>\n",
       "    </tr>\n",
       "  </tbody>\n",
       "</table>\n",
       "</div>"
      ],
      "text/plain": [
       "              datetime  season  holiday  workingday  weather  temp   atemp  \\\n",
       "0  2011-01-01 00:00:00       1        0           0        1  9.84  14.395   \n",
       "1  2011-01-01 01:00:00       1        0           0        1  9.02  13.635   \n",
       "2  2011-01-01 02:00:00       1        0           0        1  9.02  13.635   \n",
       "3  2011-01-01 03:00:00       1        0           0        1  9.84  14.395   \n",
       "4  2011-01-01 04:00:00       1        0           0        1  9.84  14.395   \n",
       "\n",
       "   humidity  windspeed  casual  registered  count  \n",
       "0        81        0.0       3          13     16  \n",
       "1        80        0.0       8          32     40  \n",
       "2        80        0.0       5          27     32  \n",
       "3        75        0.0       3          10     13  \n",
       "4        75        0.0       0           1      1  "
      ]
     },
     "execution_count": 3,
     "metadata": {},
     "output_type": "execute_result"
    }
   ],
   "source": [
    "df = pd.read_csv(\"../data/bike.csv\")\n",
    "df.head()"
   ]
  },
  {
   "cell_type": "code",
   "execution_count": 4,
   "id": "8ce89a25-8c41-4f17-877f-f8470e63a551",
   "metadata": {},
   "outputs": [
    {
     "data": {
      "text/plain": [
       "(10886, 12)"
      ]
     },
     "execution_count": 4,
     "metadata": {},
     "output_type": "execute_result"
    }
   ],
   "source": [
    "df.shape"
   ]
  },
  {
   "cell_type": "markdown",
   "id": "cfcabb46-85d6-4bb7-9833-2688ecf5d68f",
   "metadata": {},
   "source": [
    "## Feature Engineering"
   ]
  },
  {
   "cell_type": "markdown",
   "id": "413febea-c46b-4ffa-9bf4-74afd8b0ad68",
   "metadata": {},
   "source": [
    "### Iterrows()"
   ]
  },
  {
   "cell_type": "code",
   "execution_count": 6,
   "id": "41290483-01db-4731-af75-cedfd2b51cb1",
   "metadata": {},
   "outputs": [
    {
     "data": {
      "application/vnd.jupyter.widget-view+json": {
       "model_id": "e8a5969a349a41328136782e3f800d0f",
       "version_major": 2,
       "version_minor": 0
      },
      "text/plain": [
       "  0%|          | 0/10886 [00:00<?, ?it/s]"
      ]
     },
     "metadata": {},
     "output_type": "display_data"
    }
   ],
   "source": [
    "df[\"season_name\"] = \"\"\n",
    "df[\"weather_name\"] = \"\"\n",
    "\n",
    "seasons = {1: \"spring\", 2: \"summer\", 3: \"fall\", 4: \"winter\"}\n",
    "weather = {1: \"clear\", 2: \"mist\", 3: \"light\", 4: \"heavy\"}\n",
    "\n",
    "for index, row in tqdm(df.iterrows(), total=df.shape[0]):\n",
    "    df.loc[index, \"season_name\"] = seasons[row[\"season\"]]\n",
    "    df.loc[index, \"weather_name\"] = weather[row[\"weather\"]]\n",
    "    "
   ]
  },
  {
   "cell_type": "code",
   "execution_count": 33,
   "id": "2a9fdaa9-2c84-471d-8aee-e1a708bd421b",
   "metadata": {},
   "outputs": [
    {
     "data": {
      "text/html": [
       "<div>\n",
       "<style scoped>\n",
       "    .dataframe tbody tr th:only-of-type {\n",
       "        vertical-align: middle;\n",
       "    }\n",
       "\n",
       "    .dataframe tbody tr th {\n",
       "        vertical-align: top;\n",
       "    }\n",
       "\n",
       "    .dataframe thead th {\n",
       "        text-align: right;\n",
       "    }\n",
       "</style>\n",
       "<table border=\"1\" class=\"dataframe\">\n",
       "  <thead>\n",
       "    <tr style=\"text-align: right;\">\n",
       "      <th></th>\n",
       "      <th>datetime</th>\n",
       "      <th>season</th>\n",
       "      <th>holiday</th>\n",
       "      <th>workingday</th>\n",
       "      <th>weather</th>\n",
       "      <th>temp</th>\n",
       "      <th>atemp</th>\n",
       "      <th>humidity</th>\n",
       "      <th>windspeed</th>\n",
       "      <th>casual</th>\n",
       "      <th>registered</th>\n",
       "      <th>count</th>\n",
       "      <th>season_name</th>\n",
       "      <th>weather_name</th>\n",
       "    </tr>\n",
       "  </thead>\n",
       "  <tbody>\n",
       "    <tr>\n",
       "      <th>2059</th>\n",
       "      <td>2011-05-12 17:00:00</td>\n",
       "      <td>2</td>\n",
       "      <td>0</td>\n",
       "      <td>1</td>\n",
       "      <td>2</td>\n",
       "      <td>26.24</td>\n",
       "      <td>31.060</td>\n",
       "      <td>57</td>\n",
       "      <td>12.9980</td>\n",
       "      <td>54</td>\n",
       "      <td>540</td>\n",
       "      <td>594</td>\n",
       "      <td>summer</td>\n",
       "      <td>mist</td>\n",
       "    </tr>\n",
       "    <tr>\n",
       "      <th>7160</th>\n",
       "      <td>2012-04-16 17:00:00</td>\n",
       "      <td>2</td>\n",
       "      <td>1</td>\n",
       "      <td>0</td>\n",
       "      <td>1</td>\n",
       "      <td>32.80</td>\n",
       "      <td>34.850</td>\n",
       "      <td>33</td>\n",
       "      <td>26.0027</td>\n",
       "      <td>111</td>\n",
       "      <td>601</td>\n",
       "      <td>712</td>\n",
       "      <td>summer</td>\n",
       "      <td>clear</td>\n",
       "    </tr>\n",
       "    <tr>\n",
       "      <th>6082</th>\n",
       "      <td>2012-02-09 16:00:00</td>\n",
       "      <td>1</td>\n",
       "      <td>0</td>\n",
       "      <td>1</td>\n",
       "      <td>1</td>\n",
       "      <td>13.94</td>\n",
       "      <td>16.665</td>\n",
       "      <td>36</td>\n",
       "      <td>0.0000</td>\n",
       "      <td>15</td>\n",
       "      <td>223</td>\n",
       "      <td>238</td>\n",
       "      <td>spring</td>\n",
       "      <td>clear</td>\n",
       "    </tr>\n",
       "    <tr>\n",
       "      <th>1362</th>\n",
       "      <td>2011-04-02 15:00:00</td>\n",
       "      <td>2</td>\n",
       "      <td>0</td>\n",
       "      <td>0</td>\n",
       "      <td>3</td>\n",
       "      <td>13.94</td>\n",
       "      <td>15.150</td>\n",
       "      <td>76</td>\n",
       "      <td>26.0027</td>\n",
       "      <td>72</td>\n",
       "      <td>64</td>\n",
       "      <td>136</td>\n",
       "      <td>summer</td>\n",
       "      <td>light</td>\n",
       "    </tr>\n",
       "    <tr>\n",
       "      <th>9020</th>\n",
       "      <td>2012-08-18 05:00:00</td>\n",
       "      <td>3</td>\n",
       "      <td>0</td>\n",
       "      <td>0</td>\n",
       "      <td>1</td>\n",
       "      <td>24.60</td>\n",
       "      <td>28.790</td>\n",
       "      <td>78</td>\n",
       "      <td>16.9979</td>\n",
       "      <td>2</td>\n",
       "      <td>7</td>\n",
       "      <td>9</td>\n",
       "      <td>fall</td>\n",
       "      <td>clear</td>\n",
       "    </tr>\n",
       "  </tbody>\n",
       "</table>\n",
       "</div>"
      ],
      "text/plain": [
       "                 datetime  season  holiday  workingday  weather   temp  \\\n",
       "2059  2011-05-12 17:00:00       2        0           1        2  26.24   \n",
       "7160  2012-04-16 17:00:00       2        1           0        1  32.80   \n",
       "6082  2012-02-09 16:00:00       1        0           1        1  13.94   \n",
       "1362  2011-04-02 15:00:00       2        0           0        3  13.94   \n",
       "9020  2012-08-18 05:00:00       3        0           0        1  24.60   \n",
       "\n",
       "       atemp  humidity  windspeed  casual  registered  count season_name  \\\n",
       "2059  31.060        57    12.9980      54         540    594      summer   \n",
       "7160  34.850        33    26.0027     111         601    712      summer   \n",
       "6082  16.665        36     0.0000      15         223    238      spring   \n",
       "1362  15.150        76    26.0027      72          64    136      summer   \n",
       "9020  28.790        78    16.9979       2           7      9        fall   \n",
       "\n",
       "     weather_name  \n",
       "2059         mist  \n",
       "7160        clear  \n",
       "6082        clear  \n",
       "1362        light  \n",
       "9020        clear  "
      ]
     },
     "execution_count": 33,
     "metadata": {},
     "output_type": "execute_result"
    }
   ],
   "source": [
    "df.sample(5)"
   ]
  },
  {
   "cell_type": "markdown",
   "id": "a8f6a05a-60b5-442d-b759-7e90ace8c7c1",
   "metadata": {},
   "source": [
    "### Pandas Apply()"
   ]
  },
  {
   "cell_type": "code",
   "execution_count": 8,
   "id": "52349556-37b7-489f-8115-1bb3f21c3f7f",
   "metadata": {},
   "outputs": [],
   "source": [
    "tqdm.pandas()"
   ]
  },
  {
   "cell_type": "code",
   "execution_count": 14,
   "id": "b513ca21-8542-47e5-93e4-529e053bbe62",
   "metadata": {},
   "outputs": [
    {
     "data": {
      "application/vnd.jupyter.widget-view+json": {
       "model_id": "1cee03e7359144fda5c5234c50548b50",
       "version_major": 2,
       "version_minor": 0
      },
      "text/plain": [
       "  0%|          | 0/10886 [00:00<?, ?it/s]"
      ]
     },
     "metadata": {},
     "output_type": "display_data"
    },
    {
     "data": {
      "application/vnd.jupyter.widget-view+json": {
       "model_id": "b5bf608e8cae44a2ab94fa85e4d36a43",
       "version_major": 2,
       "version_minor": 0
      },
      "text/plain": [
       "  0%|          | 0/10886 [00:00<?, ?it/s]"
      ]
     },
     "metadata": {},
     "output_type": "display_data"
    }
   ],
   "source": [
    "df[\"season_name\"] = \"\"\n",
    "df[\"weather_name\"] = \"\"\n",
    "\n",
    "def apply_season(x):\n",
    "    seasons = {1: \"spring\", 2: \"summer\", 3: \"fall\", 4: \"winter\"}\n",
    "    time.sleep(0.001)\n",
    "    return seasons[x]\n",
    "\n",
    "def apply_weather(x):\n",
    "    weather = {1: \"clear\", 2: \"mist\", 3: \"light\", 4: \"heavy\"}\n",
    "    time.sleep(0.001)\n",
    "    return weather[x]\n",
    "\n",
    "df[\"season_name\"] = df[\"season\"].progress_apply(apply_season)\n",
    "df[\"weather_name\"] = df[\"weather\"].progress_apply(apply_weather)"
   ]
  },
  {
   "cell_type": "code",
   "execution_count": 12,
   "id": "f0765e2a-5984-4a80-b422-1becc34518a9",
   "metadata": {},
   "outputs": [
    {
     "data": {
      "text/html": [
       "<div>\n",
       "<style scoped>\n",
       "    .dataframe tbody tr th:only-of-type {\n",
       "        vertical-align: middle;\n",
       "    }\n",
       "\n",
       "    .dataframe tbody tr th {\n",
       "        vertical-align: top;\n",
       "    }\n",
       "\n",
       "    .dataframe thead th {\n",
       "        text-align: right;\n",
       "    }\n",
       "</style>\n",
       "<table border=\"1\" class=\"dataframe\">\n",
       "  <thead>\n",
       "    <tr style=\"text-align: right;\">\n",
       "      <th></th>\n",
       "      <th>datetime</th>\n",
       "      <th>season</th>\n",
       "      <th>holiday</th>\n",
       "      <th>workingday</th>\n",
       "      <th>weather</th>\n",
       "      <th>temp</th>\n",
       "      <th>atemp</th>\n",
       "      <th>humidity</th>\n",
       "      <th>windspeed</th>\n",
       "      <th>casual</th>\n",
       "      <th>registered</th>\n",
       "      <th>count</th>\n",
       "      <th>season_name</th>\n",
       "      <th>weather_name</th>\n",
       "    </tr>\n",
       "  </thead>\n",
       "  <tbody>\n",
       "    <tr>\n",
       "      <th>2951</th>\n",
       "      <td>2011-07-11 21:00:00</td>\n",
       "      <td>3</td>\n",
       "      <td>0</td>\n",
       "      <td>1</td>\n",
       "      <td>1</td>\n",
       "      <td>28.70</td>\n",
       "      <td>33.335</td>\n",
       "      <td>79</td>\n",
       "      <td>27.9993</td>\n",
       "      <td>21</td>\n",
       "      <td>109</td>\n",
       "      <td>130</td>\n",
       "      <td>fall</td>\n",
       "      <td>clear</td>\n",
       "    </tr>\n",
       "    <tr>\n",
       "      <th>2801</th>\n",
       "      <td>2011-07-05 15:00:00</td>\n",
       "      <td>3</td>\n",
       "      <td>0</td>\n",
       "      <td>1</td>\n",
       "      <td>1</td>\n",
       "      <td>33.62</td>\n",
       "      <td>37.120</td>\n",
       "      <td>43</td>\n",
       "      <td>0.0000</td>\n",
       "      <td>51</td>\n",
       "      <td>111</td>\n",
       "      <td>162</td>\n",
       "      <td>fall</td>\n",
       "      <td>clear</td>\n",
       "    </tr>\n",
       "    <tr>\n",
       "      <th>7004</th>\n",
       "      <td>2012-04-10 04:00:00</td>\n",
       "      <td>2</td>\n",
       "      <td>0</td>\n",
       "      <td>1</td>\n",
       "      <td>1</td>\n",
       "      <td>13.94</td>\n",
       "      <td>16.665</td>\n",
       "      <td>71</td>\n",
       "      <td>8.9981</td>\n",
       "      <td>0</td>\n",
       "      <td>2</td>\n",
       "      <td>2</td>\n",
       "      <td>summer</td>\n",
       "      <td>clear</td>\n",
       "    </tr>\n",
       "    <tr>\n",
       "      <th>9476</th>\n",
       "      <td>2012-09-18 05:00:00</td>\n",
       "      <td>3</td>\n",
       "      <td>0</td>\n",
       "      <td>1</td>\n",
       "      <td>2</td>\n",
       "      <td>26.24</td>\n",
       "      <td>28.790</td>\n",
       "      <td>89</td>\n",
       "      <td>22.0028</td>\n",
       "      <td>3</td>\n",
       "      <td>45</td>\n",
       "      <td>48</td>\n",
       "      <td>fall</td>\n",
       "      <td>mist</td>\n",
       "    </tr>\n",
       "    <tr>\n",
       "      <th>4206</th>\n",
       "      <td>2011-10-07 07:00:00</td>\n",
       "      <td>4</td>\n",
       "      <td>0</td>\n",
       "      <td>1</td>\n",
       "      <td>1</td>\n",
       "      <td>17.22</td>\n",
       "      <td>21.210</td>\n",
       "      <td>94</td>\n",
       "      <td>0.0000</td>\n",
       "      <td>5</td>\n",
       "      <td>237</td>\n",
       "      <td>242</td>\n",
       "      <td>winter</td>\n",
       "      <td>clear</td>\n",
       "    </tr>\n",
       "  </tbody>\n",
       "</table>\n",
       "</div>"
      ],
      "text/plain": [
       "                 datetime  season  holiday  workingday  weather   temp  \\\n",
       "2951  2011-07-11 21:00:00       3        0           1        1  28.70   \n",
       "2801  2011-07-05 15:00:00       3        0           1        1  33.62   \n",
       "7004  2012-04-10 04:00:00       2        0           1        1  13.94   \n",
       "9476  2012-09-18 05:00:00       3        0           1        2  26.24   \n",
       "4206  2011-10-07 07:00:00       4        0           1        1  17.22   \n",
       "\n",
       "       atemp  humidity  windspeed  casual  registered  count season_name  \\\n",
       "2951  33.335        79    27.9993      21         109    130        fall   \n",
       "2801  37.120        43     0.0000      51         111    162        fall   \n",
       "7004  16.665        71     8.9981       0           2      2      summer   \n",
       "9476  28.790        89    22.0028       3          45     48        fall   \n",
       "4206  21.210        94     0.0000       5         237    242      winter   \n",
       "\n",
       "     weather_name  \n",
       "2951        clear  \n",
       "2801        clear  \n",
       "7004        clear  \n",
       "9476         mist  \n",
       "4206        clear  "
      ]
     },
     "execution_count": 12,
     "metadata": {},
     "output_type": "execute_result"
    }
   ],
   "source": [
    "df.sample(5)"
   ]
  },
  {
   "cell_type": "markdown",
   "id": "c61112e4-1794-424a-bbf7-34c07bb2c6a2",
   "metadata": {},
   "source": [
    "## Parallel Apply"
   ]
  },
  {
   "cell_type": "code",
   "execution_count": 15,
   "id": "40afb6ae-8706-455c-84a2-37cdf1849aaf",
   "metadata": {},
   "outputs": [
    {
     "name": "stdout",
     "output_type": "stream",
     "text": [
      "INFO: Pandarallel will run on 4 workers.\n",
      "INFO: Pandarallel will use standard multiprocessing data transfer (pipe) to transfer data between the main process and workers.\n",
      "\n",
      "WARNING: You are on Windows. If you detect any issue with pandarallel, be sure you checked out the Troubleshooting page:\n",
      "https://nalepae.github.io/pandarallel/troubleshooting/\n"
     ]
    }
   ],
   "source": [
    "pandarallel.initialize(progress_bar=True)"
   ]
  },
  {
   "cell_type": "code",
   "execution_count": 16,
   "id": "afe7065a-1455-42d6-a505-ad4175a070a5",
   "metadata": {},
   "outputs": [
    {
     "data": {
      "application/vnd.jupyter.widget-view+json": {
       "model_id": "9c9d23ae7f9b44b7b9bafcd0f47ea31e",
       "version_major": 2,
       "version_minor": 0
      },
      "text/plain": [
       "VBox(children=(HBox(children=(IntProgress(value=0, description='0.00%', max=2722), Label(value='0 / 2722'))), …"
      ]
     },
     "metadata": {},
     "output_type": "display_data"
    },
    {
     "name": "stdout",
     "output_type": "stream",
     "text": [
      "It took: 7.64936 sec\n"
     ]
    }
   ],
   "source": [
    "df[\"season_name\"] = \"\"\n",
    "\n",
    "def apply_season(x):\n",
    "    import time\n",
    "    seasons = {1: \"spring\", 2: \"summer\", 3: \"fall\", 4: \"winter\"}\n",
    "    time.sleep(0.001)\n",
    "    return seasons[x]\n",
    "\n",
    "t0 = time.time()\n",
    "df[\"season_name\"] = df[\"season\"].parallel_apply(apply_season)\n",
    "t1 = time.time()\n",
    "\n",
    "print(f\"It took: {t1-t0:.5f} sec\")"
   ]
  },
  {
   "cell_type": "code",
   "execution_count": null,
   "id": "fdc69987-ac58-439f-a836-4c303c27b07d",
   "metadata": {},
   "outputs": [],
   "source": []
  }
 ],
 "metadata": {
  "kernelspec": {
   "display_name": "Python 3 (ipykernel)",
   "language": "python",
   "name": "python3"
  },
  "language_info": {
   "codemirror_mode": {
    "name": "ipython",
    "version": 3
   },
   "file_extension": ".py",
   "mimetype": "text/x-python",
   "name": "python",
   "nbconvert_exporter": "python",
   "pygments_lexer": "ipython3",
   "version": "3.10.13"
  }
 },
 "nbformat": 4,
 "nbformat_minor": 5
}
