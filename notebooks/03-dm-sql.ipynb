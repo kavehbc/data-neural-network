{
 "cells": [
  {
   "cell_type": "markdown",
   "id": "df1516da-79bc-4801-9984-26df106f5ee9",
   "metadata": {},
   "source": [
    "# Sqlite"
   ]
  },
  {
   "cell_type": "code",
   "execution_count": null,
   "id": "4f1865ca-ec29-446b-8745-04997be8383b",
   "metadata": {},
   "outputs": [],
   "source": [
    "import sqlite3"
   ]
  },
  {
   "cell_type": "code",
   "execution_count": null,
   "id": "41bf8338-f9e3-49fb-bb52-8a676f7b1b61",
   "metadata": {},
   "outputs": [],
   "source": [
    "conn = sqlite3.connect(\"../data/sql-murder-mystery.db\")"
   ]
  },
  {
   "cell_type": "code",
   "execution_count": null,
   "id": "8f150424-1bfb-4496-a21f-e3adfd57a332",
   "metadata": {
    "scrolled": true
   },
   "outputs": [],
   "source": [
    "cursor = conn.cursor()\n",
    "cursor.execute(\"SELECT * FROM person\")\n",
    "rows = cursor.fetchall()\n",
    "rows"
   ]
  },
  {
   "cell_type": "code",
   "execution_count": null,
   "id": "57ddc5be-c42c-4e08-a173-e8fa09564997",
   "metadata": {},
   "outputs": [],
   "source": [
    "import pandas as pd"
   ]
  },
  {
   "cell_type": "code",
   "execution_count": null,
   "id": "3ecda97f-99ac-4820-9bae-6b1e0007b798",
   "metadata": {},
   "outputs": [],
   "source": [
    "df = pd.read_sql_query(\"SELECT * FROM person\", conn)\n",
    "df"
   ]
  },
  {
   "cell_type": "code",
   "execution_count": null,
   "id": "f492d2b4-35c3-4697-b6dd-b5d41d9040c3",
   "metadata": {},
   "outputs": [],
   "source": [
    "conn.close()"
   ]
  },
  {
   "cell_type": "markdown",
   "id": "25c43b73-e199-4c2c-bbfd-188d5b13c884",
   "metadata": {},
   "source": [
    "## Other Databases"
   ]
  },
  {
   "cell_type": "code",
   "execution_count": null,
   "id": "e18e6dfd-f70c-4abe-bdcc-d06ae0963fa7",
   "metadata": {},
   "outputs": [],
   "source": [
    "from sqlalchemy import create_engine\n",
    "from urllib.parse import quote_plus\n",
    "import pandas as pd"
   ]
  },
  {
   "cell_type": "markdown",
   "id": "f6c1eb6d-d2d6-4510-b6df-db42ead73527",
   "metadata": {},
   "source": [
    "### SQL Server"
   ]
  },
  {
   "cell_type": "code",
   "execution_count": null,
   "id": "8e0746b6-5d26-4ef3-abad-6eaad7807669",
   "metadata": {},
   "outputs": [],
   "source": [
    "# pip install pyodbc\n",
    "\n",
    "username = \"sa\"\n",
    "password = \"abc12345\"\n",
    "server = \"localhost\"\n",
    "database = \"w3\"\n",
    "\n",
    "connection_string = f\"mssql+pyodbc://{username}:{quote_plus(password)}@{server}/{database}?driver=ODBC+Driver+17+for+SQL+Server\"\n",
    "\n",
    "engine = create_engine(connection_string)\n",
    "conn = engine.connect()"
   ]
  },
  {
   "cell_type": "markdown",
   "id": "92d94fd2-881d-401d-b7d2-5e9d6cd64fd5",
   "metadata": {},
   "source": [
    "### MySQL"
   ]
  },
  {
   "cell_type": "code",
   "execution_count": null,
   "id": "c1a1ca11-1aa7-4666-aba1-c0ad11c4dbfa",
   "metadata": {},
   "outputs": [],
   "source": [
    "# pip install pymysql\n",
    "\n",
    "username = 'root'\n",
    "password = ''\n",
    "server = 'localhost'\n",
    "database = 'w3schools'\n",
    "\n",
    "connection_string = f\"mysql+pymysql://{username}:{quote_plus(password)}@{server}/{database}?charset=utf8mb4\"\n",
    "engine = create_engine(connection_string)\n",
    "conn = engine.connect()\n",
    "conn"
   ]
  },
  {
   "cell_type": "markdown",
   "id": "0d496ed9-2e9b-46b8-b658-c5f238a26791",
   "metadata": {},
   "source": [
    "### Oracle"
   ]
  },
  {
   "cell_type": "code",
   "execution_count": null,
   "id": "633fa77b-64aa-4fa7-a1ba-d7264d2b49a9",
   "metadata": {},
   "outputs": [],
   "source": [
    "# Requirements: Windows 11 SDK, MS Visual C++ v142\n",
    "\n",
    "username = \"demo\"\n",
    "password = \"demo\"\n",
    "host = \"localhost\"\n",
    "port = \"1521\"\n",
    "database = \"xe\"\n",
    "\n",
    "connection_string = f\"oracle+cx_oracle://{username}:{password}@{host}:{port}/?service_name={database}\"\n",
    "engine = create_engine(connection_string)\n",
    "conn = engine.connect()"
   ]
  },
  {
   "cell_type": "markdown",
   "id": "928d0de1-b282-4aec-bdf7-8aae97dcf6f3",
   "metadata": {},
   "source": [
    "### Fetching Data"
   ]
  },
  {
   "cell_type": "code",
   "execution_count": null,
   "id": "6129b2d8-bae4-4009-8305-3fa7a773c35d",
   "metadata": {},
   "outputs": [],
   "source": [
    "df = pd.read_sql_query(\"SELECT * FROM products\", conn)\n",
    "df"
   ]
  },
  {
   "cell_type": "code",
   "execution_count": null,
   "id": "ed00a660-1cde-47b9-8ea2-58d4176b0111",
   "metadata": {},
   "outputs": [],
   "source": [
    "conn.close()"
   ]
  }
 ],
 "metadata": {
  "kernelspec": {
   "display_name": "Python 3 (ipykernel)",
   "language": "python",
   "name": "python3"
  },
  "language_info": {
   "codemirror_mode": {
    "name": "ipython",
    "version": 3
   },
   "file_extension": ".py",
   "mimetype": "text/x-python",
   "name": "python",
   "nbconvert_exporter": "python",
   "pygments_lexer": "ipython3",
   "version": "3.10.13"
  }
 },
 "nbformat": 4,
 "nbformat_minor": 5
}
