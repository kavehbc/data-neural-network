{
 "cells": [
  {
   "cell_type": "markdown",
   "id": "b878e94b-53c4-4b55-8b4b-3bebc4701062",
   "metadata": {},
   "source": [
    "# Neural Network Optimizers"
   ]
  },
  {
   "cell_type": "code",
   "execution_count": 1,
   "id": "f1be33aa-f5f0-40f5-8ae0-60853e3e590f",
   "metadata": {},
   "outputs": [],
   "source": [
    "import pandas as pd\n",
    "import numpy as np\n",
    "import sklearn.datasets as ds\n",
    "import matplotlib.pyplot as plt\n",
    "\n",
    "from sklearn.model_selection import train_test_split\n",
    "from sklearn.neural_network import MLPRegressor\n",
    "\n",
    "from sklearn.metrics import mean_absolute_error\n",
    "from sklearn.metrics import mean_squared_error"
   ]
  },
  {
   "cell_type": "code",
   "execution_count": 2,
   "id": "ed30dfdc-c87f-4712-9210-cd4b6956c3ef",
   "metadata": {},
   "outputs": [
    {
     "data": {
      "text/html": [
       "<div>\n",
       "<style scoped>\n",
       "    .dataframe tbody tr th:only-of-type {\n",
       "        vertical-align: middle;\n",
       "    }\n",
       "\n",
       "    .dataframe tbody tr th {\n",
       "        vertical-align: top;\n",
       "    }\n",
       "\n",
       "    .dataframe thead th {\n",
       "        text-align: right;\n",
       "    }\n",
       "</style>\n",
       "<table border=\"1\" class=\"dataframe\">\n",
       "  <thead>\n",
       "    <tr style=\"text-align: right;\">\n",
       "      <th></th>\n",
       "      <th>age</th>\n",
       "      <th>sex</th>\n",
       "      <th>bmi</th>\n",
       "      <th>bp</th>\n",
       "      <th>s1</th>\n",
       "      <th>s2</th>\n",
       "      <th>s3</th>\n",
       "      <th>s4</th>\n",
       "      <th>s5</th>\n",
       "      <th>s6</th>\n",
       "      <th>target</th>\n",
       "    </tr>\n",
       "  </thead>\n",
       "  <tbody>\n",
       "    <tr>\n",
       "      <th>0</th>\n",
       "      <td>0.038076</td>\n",
       "      <td>0.050680</td>\n",
       "      <td>0.061696</td>\n",
       "      <td>0.021872</td>\n",
       "      <td>-0.044223</td>\n",
       "      <td>-0.034821</td>\n",
       "      <td>-0.043401</td>\n",
       "      <td>-0.002592</td>\n",
       "      <td>0.019907</td>\n",
       "      <td>-0.017646</td>\n",
       "      <td>151.0</td>\n",
       "    </tr>\n",
       "    <tr>\n",
       "      <th>1</th>\n",
       "      <td>-0.001882</td>\n",
       "      <td>-0.044642</td>\n",
       "      <td>-0.051474</td>\n",
       "      <td>-0.026328</td>\n",
       "      <td>-0.008449</td>\n",
       "      <td>-0.019163</td>\n",
       "      <td>0.074412</td>\n",
       "      <td>-0.039493</td>\n",
       "      <td>-0.068332</td>\n",
       "      <td>-0.092204</td>\n",
       "      <td>75.0</td>\n",
       "    </tr>\n",
       "    <tr>\n",
       "      <th>2</th>\n",
       "      <td>0.085299</td>\n",
       "      <td>0.050680</td>\n",
       "      <td>0.044451</td>\n",
       "      <td>-0.005670</td>\n",
       "      <td>-0.045599</td>\n",
       "      <td>-0.034194</td>\n",
       "      <td>-0.032356</td>\n",
       "      <td>-0.002592</td>\n",
       "      <td>0.002861</td>\n",
       "      <td>-0.025930</td>\n",
       "      <td>141.0</td>\n",
       "    </tr>\n",
       "    <tr>\n",
       "      <th>3</th>\n",
       "      <td>-0.089063</td>\n",
       "      <td>-0.044642</td>\n",
       "      <td>-0.011595</td>\n",
       "      <td>-0.036656</td>\n",
       "      <td>0.012191</td>\n",
       "      <td>0.024991</td>\n",
       "      <td>-0.036038</td>\n",
       "      <td>0.034309</td>\n",
       "      <td>0.022688</td>\n",
       "      <td>-0.009362</td>\n",
       "      <td>206.0</td>\n",
       "    </tr>\n",
       "    <tr>\n",
       "      <th>4</th>\n",
       "      <td>0.005383</td>\n",
       "      <td>-0.044642</td>\n",
       "      <td>-0.036385</td>\n",
       "      <td>0.021872</td>\n",
       "      <td>0.003935</td>\n",
       "      <td>0.015596</td>\n",
       "      <td>0.008142</td>\n",
       "      <td>-0.002592</td>\n",
       "      <td>-0.031988</td>\n",
       "      <td>-0.046641</td>\n",
       "      <td>135.0</td>\n",
       "    </tr>\n",
       "  </tbody>\n",
       "</table>\n",
       "</div>"
      ],
      "text/plain": [
       "        age       sex       bmi        bp        s1        s2        s3  \\\n",
       "0  0.038076  0.050680  0.061696  0.021872 -0.044223 -0.034821 -0.043401   \n",
       "1 -0.001882 -0.044642 -0.051474 -0.026328 -0.008449 -0.019163  0.074412   \n",
       "2  0.085299  0.050680  0.044451 -0.005670 -0.045599 -0.034194 -0.032356   \n",
       "3 -0.089063 -0.044642 -0.011595 -0.036656  0.012191  0.024991 -0.036038   \n",
       "4  0.005383 -0.044642 -0.036385  0.021872  0.003935  0.015596  0.008142   \n",
       "\n",
       "         s4        s5        s6  target  \n",
       "0 -0.002592  0.019907 -0.017646   151.0  \n",
       "1 -0.039493 -0.068332 -0.092204    75.0  \n",
       "2 -0.002592  0.002861 -0.025930   141.0  \n",
       "3  0.034309  0.022688 -0.009362   206.0  \n",
       "4 -0.002592 -0.031988 -0.046641   135.0  "
      ]
     },
     "execution_count": 2,
     "metadata": {},
     "output_type": "execute_result"
    }
   ],
   "source": [
    "data = ds.load_diabetes()\n",
    "df = pd.DataFrame(data=data.data, columns=data.feature_names)\n",
    "df[\"target\"] = data.target\n",
    "df.head()"
   ]
  },
  {
   "cell_type": "markdown",
   "id": "fdfe93ca-ced5-492f-8b83-4f9e1aafdb88",
   "metadata": {},
   "source": [
    "## Train / Test Split"
   ]
  },
  {
   "cell_type": "code",
   "execution_count": 3,
   "id": "4a2e8c42-a290-48cf-9eca-14ca03829782",
   "metadata": {},
   "outputs": [
    {
     "name": "stdout",
     "output_type": "stream",
     "text": [
      "Train Shape: (353, 10)\n",
      "Test Shape: (89, 10)\n"
     ]
    }
   ],
   "source": [
    "X = df.drop(columns=['target'])\n",
    "y = df[\"target\"]\n",
    "\n",
    "X_train, X_test, y_train, y_test = train_test_split(X, y, test_size=0.20, random_state=42)\n",
    "\n",
    "print(f\"Train Shape: {X_train.shape}\")\n",
    "print(f\"Test Shape: {X_test.shape}\")"
   ]
  },
  {
   "cell_type": "markdown",
   "id": "2fdb7c33-49bf-423e-8954-03ac11d4c8fc",
   "metadata": {},
   "source": [
    "## Neural Network"
   ]
  },
  {
   "cell_type": "code",
   "execution_count": 4,
   "id": "a1616bd3-42e3-42df-90bc-08a7efbdc1c4",
   "metadata": {},
   "outputs": [],
   "source": [
    "solvers = [\"sgd\", \"adam\"]\n",
    "loss_curves = {}\n",
    "error_metrics = {\"sgd\":{\"train\":{}, \"test\":{}},\n",
    "                 \"adam\":{\"train\":{}, \"test\":{}}}\n",
    "\n",
    "for solver in solvers:\n",
    "    model = MLPRegressor(random_state=1,\n",
    "                         max_iter=1000,\n",
    "                         hidden_layer_sizes=(100, 50, 30, ),\n",
    "                         n_iter_no_change=100,\n",
    "                         early_stopping=True,\n",
    "                         validation_fraction=0.1,\n",
    "                         solver=solver,\n",
    "                         verbose=False)\n",
    "    model.fit(X_train, y_train)\n",
    "    loss_curves[solver] = model.loss_curve_\n",
    "    \n",
    "    # error metrics: Train\n",
    "    y_pred = model.predict(X_train)\n",
    "    error_metrics[solver][\"train\"][\"mae\"] = mean_absolute_error(y_train, y_pred)\n",
    "    # error_metrics[solver][\"train\"][\"mse\"] = mean_squared_error(y_train, y_pred, squared=True)\n",
    "    error_metrics[solver][\"train\"][\"rmse\"] = mean_squared_error(y_train, y_pred, squared=False)\n",
    "    \n",
    "    # error metrics: Test\n",
    "    y_pred = model.predict(X_test)\n",
    "    error_metrics[solver][\"test\"][\"mae\"] = mean_absolute_error(y_test, y_pred)\n",
    "    # error_metrics[solver][\"test\"][\"mse\"] = mean_squared_error(y_test, y_pred, squared=True)\n",
    "    error_metrics[solver][\"test\"][\"rmse\"] = mean_squared_error(y_test, y_pred, squared=False)"
   ]
  },
  {
   "cell_type": "code",
   "execution_count": 5,
   "id": "3cbfea54-2352-44ff-b7b2-da2a834ec64f",
   "metadata": {},
   "outputs": [
    {
     "data": {
      "image/png": "[encoded data removed]",
      "text/plain": [
       "<Figure size 640x480 with 1 Axes>"
      ]
     },
     "metadata": {},
     "output_type": "display_data"
    }
   ],
   "source": [
    "for key in loss_curves:\n",
    "    plt.plot(loss_curves[key], label=key)\n",
    "\n",
    "plt.legend()\n",
    "plt.show()"
   ]
  },
  {
   "cell_type": "code",
   "execution_count": 6,
   "id": "b703303e-1a0e-44c8-a74d-96438607f87f",
   "metadata": {},
   "outputs": [
    {
     "data": {
      "text/plain": [
       "{'sgd': {'train': {'mae': 65.64899305209306, 'rmse': 78.9866145346715},\n",
       "  'test': {'mae': 62.639387107990444, 'rmse': 72.94556530541831}},\n",
       " 'adam': {'train': {'mae': 43.732046030331766, 'rmse': 54.00707219949251},\n",
       "  'test': {'mae': 42.587286444652925, 'rmse': 53.73537107802586}}}"
      ]
     },
     "execution_count": 6,
     "metadata": {},
     "output_type": "execute_result"
    }
   ],
   "source": [
    "error_metrics"
   ]
  },
  {
   "cell_type": "code",
   "execution_count": 7,
   "id": "0a0db7dd-fdd8-434b-9ff7-c5e895f2864f",
   "metadata": {},
   "outputs": [
    {
     "data": {
      "image/png": "[encoded data removed]",
      "text/plain": [
       "<Figure size 640x480 with 1 Axes>"
      ]
     },
     "metadata": {},
     "output_type": "display_data"
    }
   ],
   "source": [
    "X_axis = np.arange(len(error_metrics))\n",
    "\n",
    "plt.bar(X_axis - 0.1,\n",
    "        error_metrics[\"sgd\"][\"train\"].values(), 0.2, label=\"sgd\")\n",
    "plt.bar(X_axis + 0.1,\n",
    "        error_metrics[\"adam\"][\"train\"].values(), 0.2, label=\"adam\")\n",
    "\n",
    "plt.xticks(X_axis, error_metrics[\"adam\"][\"train\"].keys())\n",
    "plt.legend()\n",
    "plt.show()"
   ]
  },
  {
   "cell_type": "code",
   "execution_count": 8,
   "id": "8214e050-db39-41e1-b409-3908e2322ec9",
   "metadata": {},
   "outputs": [
    {
     "data": {
      "image/png": "[encoded data removed]",
      "text/plain": [
       "<Figure size 640x480 with 1 Axes>"
      ]
     },
     "metadata": {},
     "output_type": "display_data"
    }
   ],
   "source": [
    "X_axis = np.arange(len(error_metrics))\n",
    "\n",
    "plt.bar(X_axis - 0.1,\n",
    "        error_metrics[\"sgd\"][\"test\"].values(), 0.2, label=\"sgd\")\n",
    "plt.bar(X_axis + 0.1,\n",
    "        error_metrics[\"adam\"][\"test\"].values(), 0.2, label=\"adam\")\n",
    "\n",
    "plt.xticks(X_axis, error_metrics[\"adam\"][\"test\"].keys())\n",
    "plt.legend()\n",
    "plt.show()"
   ]
  },
  {
   "cell_type": "code",
   "execution_count": null,
   "id": "cc860ed5-f314-4554-a147-fd9a741a1630",
   "metadata": {},
   "outputs": [],
   "source": []
  }
 ],
 "metadata": {
  "kernelspec": {
   "display_name": "Python 3 (ipykernel)",
   "language": "python",
   "name": "python3"
  },
  "language_info": {
   "codemirror_mode": {
    "name": "ipython",
    "version": 3
   },
   "file_extension": ".py",
   "mimetype": "text/x-python",
   "name": "python",
   "nbconvert_exporter": "python",
   "pygments_lexer": "ipython3",
   "version": "3.10.11"
  }
 },
 "nbformat": 4,
 "nbformat_minor": 5
}
