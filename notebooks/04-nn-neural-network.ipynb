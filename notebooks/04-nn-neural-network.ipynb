{
 "cells": [
  {
   "cell_type": "markdown",
   "id": "82a8150f-6dda-47b0-8eb0-e5eef5b3ff3d",
   "metadata": {},
   "source": [
    "# Multi-Layer Perceptron (Neural Network)"
   ]
  },
  {
   "cell_type": "markdown",
   "id": "7e6a3d4d-0ed9-47be-ab9e-698cea699546",
   "metadata": {},
   "source": [
    "https://scikit-learn.org/stable/modules/generated/sklearn.neural_network.MLPClassifier.html"
   ]
  },
  {
   "cell_type": "markdown",
   "id": "7a0d6930-889e-46b4-bb9a-4ab51a73d29a",
   "metadata": {},
   "source": [
    "## Training XOR"
   ]
  },
  {
   "cell_type": "code",
   "execution_count": 7,
   "id": "b6633f1a-0e7b-49b8-a9f2-3aa36f2d3769",
   "metadata": {},
   "outputs": [],
   "source": [
    "import numpy as np\n",
    "import pandas as pd\n",
    "from sklearn.neural_network import MLPClassifier\n",
    "import matplotlib.pyplot as plt"
   ]
  },
  {
   "cell_type": "code",
   "execution_count": 8,
   "id": "c1d2bbc1-1e2e-4d17-ae8f-29f13052763b",
   "metadata": {},
   "outputs": [],
   "source": [
    "# creating dataset for XOR\n",
    "train = np.array([0, 0, 0, 1, 1, 0, 1, 1]).reshape(4,2)\n",
    "label = np.array([0, 1, 1, 0])"
   ]
  },
  {
   "cell_type": "code",
   "execution_count": 9,
   "id": "6dff0bb0-a30b-4e00-8618-9e08000bce3d",
   "metadata": {},
   "outputs": [
    {
     "data": {
      "text/plain": [
       "array([[0, 0],\n",
       "       [0, 1],\n",
       "       [1, 0],\n",
       "       [1, 1]])"
      ]
     },
     "execution_count": 9,
     "metadata": {},
     "output_type": "execute_result"
    }
   ],
   "source": [
    "train"
   ]
  },
  {
   "cell_type": "code",
   "execution_count": 10,
   "id": "912e381c-99a4-48aa-a6ee-979c5b7aae86",
   "metadata": {},
   "outputs": [
    {
     "data": {
      "text/html": [
       "<div>\n",
       "<style scoped>\n",
       "    .dataframe tbody tr th:only-of-type {\n",
       "        vertical-align: middle;\n",
       "    }\n",
       "\n",
       "    .dataframe tbody tr th {\n",
       "        vertical-align: top;\n",
       "    }\n",
       "\n",
       "    .dataframe thead th {\n",
       "        text-align: right;\n",
       "    }\n",
       "</style>\n",
       "<table border=\"1\" class=\"dataframe\">\n",
       "  <thead>\n",
       "    <tr style=\"text-align: right;\">\n",
       "      <th></th>\n",
       "      <th>a</th>\n",
       "      <th>b</th>\n",
       "      <th>y</th>\n",
       "    </tr>\n",
       "  </thead>\n",
       "  <tbody>\n",
       "    <tr>\n",
       "      <th>0</th>\n",
       "      <td>0</td>\n",
       "      <td>0</td>\n",
       "      <td>0</td>\n",
       "    </tr>\n",
       "    <tr>\n",
       "      <th>1</th>\n",
       "      <td>0</td>\n",
       "      <td>1</td>\n",
       "      <td>1</td>\n",
       "    </tr>\n",
       "    <tr>\n",
       "      <th>2</th>\n",
       "      <td>1</td>\n",
       "      <td>0</td>\n",
       "      <td>1</td>\n",
       "    </tr>\n",
       "    <tr>\n",
       "      <th>3</th>\n",
       "      <td>1</td>\n",
       "      <td>1</td>\n",
       "      <td>0</td>\n",
       "    </tr>\n",
       "  </tbody>\n",
       "</table>\n",
       "</div>"
      ],
      "text/plain": [
       "   a  b  y\n",
       "0  0  0  0\n",
       "1  0  1  1\n",
       "2  1  0  1\n",
       "3  1  1  0"
      ]
     },
     "execution_count": 10,
     "metadata": {},
     "output_type": "execute_result"
    }
   ],
   "source": [
    "# presenting in a dataframe\n",
    "\n",
    "data = {\"a\": [0, 0, 1, 1],\n",
    "        \"b\": [0, 1, 0, 1],\n",
    "        \"y\": [0, 1, 1, 0]}\n",
    "df = pd.DataFrame(data)\n",
    "df"
   ]
  },
  {
   "cell_type": "code",
   "execution_count": 32,
   "id": "3f8ccfd0-3713-40f5-8bc7-136f3dc8f0fa",
   "metadata": {},
   "outputs": [
    {
     "data": {
      "text/plain": [
       "1.0"
      ]
     },
     "execution_count": 32,
     "metadata": {},
     "output_type": "execute_result"
    }
   ],
   "source": [
    "# Fitting model based on the train data\n",
    "model = MLPClassifier(random_state=1, hidden_layer_sizes=(10,), max_iter=30000)\n",
    "model.fit(train, label)\n",
    "\n",
    "# checking the score\n",
    "# the result is between 0 and 1: 1 means 100% accurate\n",
    "model.score(train, label)"
   ]
  },
  {
   "cell_type": "code",
   "execution_count": 33,
   "id": "6fad72fc-c235-4c9f-ab85-5919f6374d23",
   "metadata": {},
   "outputs": [
    {
     "data": {
      "image/png": "[encoded data removed]",
      "text/plain": [
       "<Figure size 640x480 with 1 Axes>"
      ]
     },
     "metadata": {},
     "output_type": "display_data"
    }
   ],
   "source": [
    "loss_curve = model.loss_curve_\n",
    "plt.plot(loss_curve)\n",
    "plt.show()"
   ]
  },
  {
   "cell_type": "markdown",
   "id": "1e3cf059-0e3c-4130-a7f2-50937fef805b",
   "metadata": {},
   "source": [
    "## Testing / Predicting"
   ]
  },
  {
   "cell_type": "code",
   "execution_count": 31,
   "id": "51a1d95b-d6df-4378-92b0-efbfa8bdca85",
   "metadata": {},
   "outputs": [
    {
     "data": {
      "text/plain": [
       "array([0])"
      ]
     },
     "execution_count": 31,
     "metadata": {},
     "output_type": "execute_result"
    }
   ],
   "source": [
    "test = np.array([1, 1])\n",
    "\n",
    "model.predict(test.reshape(1, -1))"
   ]
  },
  {
   "cell_type": "markdown",
   "id": "b1847bc4-f083-40fd-abdb-18fbace7ac9f",
   "metadata": {},
   "source": [
    "## Model Details"
   ]
  },
  {
   "cell_type": "code",
   "execution_count": 34,
   "id": "83c1b1e2-773c-4694-aee1-b905c9f926ef",
   "metadata": {
    "scrolled": true,
    "tags": []
   },
   "outputs": [
    {
     "data": {
      "text/plain": [
       "[array([[-8.32775934e-03,  4.53449888e-01, -1.78578461e-04,\n",
       "         -2.26702855e+00, -2.40094749e-01, -4.50065614e-01,\n",
       "         -5.74925716e-09,  2.11590340e-32,  1.95066542e-44,\n",
       "          1.87794211e+00],\n",
       "        [-6.98062236e-02,  2.53468260e-01, -7.20451789e-10,\n",
       "          2.26713151e+00, -2.19879734e-01,  2.57935710e-01,\n",
       "          4.55027616e-48,  7.11211929e-51, -2.97134842e-07,\n",
       "         -1.87798000e+00]]),\n",
       " array([[-1.15391524e+00],\n",
       "        [-4.79775495e-01],\n",
       "        [ 9.14026436e-05],\n",
       "        [ 2.27558713e+00],\n",
       "        [-6.16203625e-02],\n",
       "        [-9.75130047e-01],\n",
       "        [-2.53059573e-22],\n",
       "        [ 1.41149900e-07],\n",
       "        [-1.96185709e-04],\n",
       "        [ 2.47465718e+00]])]"
      ]
     },
     "execution_count": 34,
     "metadata": {},
     "output_type": "execute_result"
    }
   ],
   "source": [
    "# printing model coefficients (weights)\n",
    "\n",
    "model.coefs_"
   ]
  },
  {
   "cell_type": "code",
   "execution_count": 35,
   "id": "0c7603f0-795e-49f1-a1aa-f65641abe228",
   "metadata": {},
   "outputs": [
    {
     "data": {
      "text/plain": [
       "3"
      ]
     },
     "execution_count": 35,
     "metadata": {},
     "output_type": "execute_result"
    }
   ],
   "source": [
    "# number of neural network layers including input and output layers\n",
    "\n",
    "model.n_layers_"
   ]
  },
  {
   "cell_type": "code",
   "execution_count": 36,
   "id": "85370cee-a8ae-4dc6-80bb-b26f07f39274",
   "metadata": {},
   "outputs": [
    {
     "data": {
      "text/plain": [
       "2235"
      ]
     },
     "execution_count": 36,
     "metadata": {},
     "output_type": "execute_result"
    }
   ],
   "source": [
    "# number of iterations the Neural Network model is trained\n",
    "\n",
    "model.n_iter_"
   ]
  },
  {
   "cell_type": "code",
   "execution_count": null,
   "id": "12f9856f-7e98-4b75-8be8-8c2e36a57529",
   "metadata": {},
   "outputs": [],
   "source": []
  }
 ],
 "metadata": {
  "kernelspec": {
   "display_name": "Python 3 (ipykernel)",
   "language": "python",
   "name": "python3"
  },
  "language_info": {
   "codemirror_mode": {
    "name": "ipython",
    "version": 3
   },
   "file_extension": ".py",
   "mimetype": "text/x-python",
   "name": "python",
   "nbconvert_exporter": "python",
   "pygments_lexer": "ipython3",
   "version": "3.10.11"
  }
 },
 "nbformat": 4,
 "nbformat_minor": 5
}
