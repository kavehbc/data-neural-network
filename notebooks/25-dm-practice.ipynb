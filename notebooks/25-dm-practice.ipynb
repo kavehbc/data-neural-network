{
 "cells": [
  {
   "cell_type": "markdown",
   "id": "6c3906bd-00ad-4180-9fba-4aeefe1cfdc5",
   "metadata": {},
   "source": [
    "# Data Cleaning and Visualization Practice\n",
    "\n",
    "https://www.kaggle.com/datasets/bharatnatrayn/movies-dataset-for-feature-extracion-prediction?select=movies.csv"
   ]
  },
  {
   "cell_type": "code",
   "execution_count": null,
   "id": "6154648f-fc64-4827-914f-0feb4facf3d1",
   "metadata": {},
   "outputs": [],
   "source": []
  }
 ],
 "metadata": {
  "kernelspec": {
   "display_name": "Python 3 (ipykernel)",
   "language": "python",
   "name": "python3"
  },
  "language_info": {
   "codemirror_mode": {
    "name": "ipython",
    "version": 3
   },
   "file_extension": ".py",
   "mimetype": "text/x-python",
   "name": "python",
   "nbconvert_exporter": "python",
   "pygments_lexer": "ipython3",
   "version": "3.10.11"
  }
 },
 "nbformat": 4,
 "nbformat_minor": 5
}
