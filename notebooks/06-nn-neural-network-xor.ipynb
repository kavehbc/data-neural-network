{
 "cells": [
  {
   "cell_type": "markdown",
   "id": "82a8150f-6dda-47b0-8eb0-e5eef5b3ff3d",
   "metadata": {},
   "source": [
    "# Multi-Layer Perceptron (Neural Network)"
   ]
  },
  {
   "cell_type": "markdown",
   "id": "7e6a3d4d-0ed9-47be-ab9e-698cea699546",
   "metadata": {},
   "source": [
    "https://scikit-learn.org/stable/modules/generated/sklearn.neural_network.MLPClassifier.html"
   ]
  },
  {
   "cell_type": "markdown",
   "id": "7a0d6930-889e-46b4-bb9a-4ab51a73d29a",
   "metadata": {},
   "source": [
    "## Training XOR"
   ]
  },
  {
   "cell_type": "code",
   "execution_count": 11,
   "id": "b6633f1a-0e7b-49b8-a9f2-3aa36f2d3769",
   "metadata": {},
   "outputs": [],
   "source": [
    "import numpy as np\n",
    "import pandas as pd\n",
    "from sklearn.neural_network import MLPClassifier\n",
    "import matplotlib.pyplot as plt"
   ]
  },
  {
   "cell_type": "code",
   "execution_count": 12,
   "id": "c1d2bbc1-1e2e-4d17-ae8f-29f13052763b",
   "metadata": {},
   "outputs": [],
   "source": [
    "# creating dataset for XOR\n",
    "train = np.array([0, 0, 0, 1, 1, 0, 1, 1]).reshape(4,2)\n",
    "label = np.array([0, 1, 1, 0])"
   ]
  },
  {
   "cell_type": "code",
   "execution_count": 13,
   "id": "6dff0bb0-a30b-4e00-8618-9e08000bce3d",
   "metadata": {},
   "outputs": [
    {
     "data": {
      "text/plain": [
       "array([[0, 0],\n",
       "       [0, 1],\n",
       "       [1, 0],\n",
       "       [1, 1]])"
      ]
     },
     "execution_count": 13,
     "metadata": {},
     "output_type": "execute_result"
    }
   ],
   "source": [
    "train"
   ]
  },
  {
   "cell_type": "code",
   "execution_count": 14,
   "id": "912e381c-99a4-48aa-a6ee-979c5b7aae86",
   "metadata": {},
   "outputs": [
    {
     "data": {
      "text/html": [
       "<div>\n",
       "<style scoped>\n",
       "    .dataframe tbody tr th:only-of-type {\n",
       "        vertical-align: middle;\n",
       "    }\n",
       "\n",
       "    .dataframe tbody tr th {\n",
       "        vertical-align: top;\n",
       "    }\n",
       "\n",
       "    .dataframe thead th {\n",
       "        text-align: right;\n",
       "    }\n",
       "</style>\n",
       "<table border=\"1\" class=\"dataframe\">\n",
       "  <thead>\n",
       "    <tr style=\"text-align: right;\">\n",
       "      <th></th>\n",
       "      <th>a</th>\n",
       "      <th>b</th>\n",
       "      <th>y</th>\n",
       "    </tr>\n",
       "  </thead>\n",
       "  <tbody>\n",
       "    <tr>\n",
       "      <th>0</th>\n",
       "      <td>0</td>\n",
       "      <td>0</td>\n",
       "      <td>0</td>\n",
       "    </tr>\n",
       "    <tr>\n",
       "      <th>1</th>\n",
       "      <td>0</td>\n",
       "      <td>1</td>\n",
       "      <td>1</td>\n",
       "    </tr>\n",
       "    <tr>\n",
       "      <th>2</th>\n",
       "      <td>1</td>\n",
       "      <td>0</td>\n",
       "      <td>1</td>\n",
       "    </tr>\n",
       "    <tr>\n",
       "      <th>3</th>\n",
       "      <td>1</td>\n",
       "      <td>1</td>\n",
       "      <td>0</td>\n",
       "    </tr>\n",
       "  </tbody>\n",
       "</table>\n",
       "</div>"
      ],
      "text/plain": [
       "   a  b  y\n",
       "0  0  0  0\n",
       "1  0  1  1\n",
       "2  1  0  1\n",
       "3  1  1  0"
      ]
     },
     "execution_count": 14,
     "metadata": {},
     "output_type": "execute_result"
    }
   ],
   "source": [
    "# presenting in a dataframe\n",
    "\n",
    "data = {\"a\": [0, 0, 1, 1],\n",
    "        \"b\": [0, 1, 0, 1],\n",
    "        \"y\": [0, 1, 1, 0]}\n",
    "df = pd.DataFrame(data)\n",
    "df"
   ]
  },
  {
   "cell_type": "code",
   "execution_count": 67,
   "id": "3f8ccfd0-3713-40f5-8bc7-136f3dc8f0fa",
   "metadata": {},
   "outputs": [
    {
     "data": {
      "text/plain": [
       "1.0"
      ]
     },
     "execution_count": 67,
     "metadata": {},
     "output_type": "execute_result"
    }
   ],
   "source": [
    "# Fitting model based on the train data\n",
    "model = MLPClassifier(random_state=42,\n",
    "                      hidden_layer_sizes=(6,),\n",
    "                      max_iter=30000)\n",
    "model.fit(train, label)\n",
    "\n",
    "# checking the score\n",
    "# the result is between 0 and 1: 1 means 100% accurate\n",
    "model.score(train, label)"
   ]
  },
  {
   "cell_type": "code",
   "execution_count": 34,
   "id": "6fad72fc-c235-4c9f-ab85-5919f6374d23",
   "metadata": {},
   "outputs": [
    {
     "data": {
      "image/png": "[encoded data removed]",
      "text/plain": [
       "<Figure size 640x480 with 1 Axes>"
      ]
     },
     "metadata": {},
     "output_type": "display_data"
    }
   ],
   "source": [
    "loss_curve = model.loss_curve_\n",
    "plt.plot(loss_curve)\n",
    "plt.show()"
   ]
  },
  {
   "cell_type": "markdown",
   "id": "1e3cf059-0e3c-4130-a7f2-50937fef805b",
   "metadata": {},
   "source": [
    "## Testing / Predicting"
   ]
  },
  {
   "cell_type": "code",
   "execution_count": 35,
   "id": "51a1d95b-d6df-4378-92b0-efbfa8bdca85",
   "metadata": {},
   "outputs": [
    {
     "data": {
      "text/plain": [
       "array([0])"
      ]
     },
     "execution_count": 35,
     "metadata": {},
     "output_type": "execute_result"
    }
   ],
   "source": [
    "test = np.array([1, 1])\n",
    "\n",
    "model.predict(test.reshape(1, -1))"
   ]
  },
  {
   "cell_type": "markdown",
   "id": "b1847bc4-f083-40fd-abdb-18fbace7ac9f",
   "metadata": {},
   "source": [
    "## Model Details"
   ]
  },
  {
   "cell_type": "code",
   "execution_count": 36,
   "id": "83c1b1e2-773c-4694-aee1-b905c9f926ef",
   "metadata": {
    "scrolled": true,
    "tags": []
   },
   "outputs": [
    {
     "data": {
      "text/plain": [
       "[array([[-3.35966633e-43,  1.36895510e+00,  1.14382614e+00,\n",
       "          4.83910618e-49, -6.37693956e-09, -6.39154742e-09,\n",
       "         -4.53259047e-06,  9.85047480e-01,  1.85792200e+00,\n",
       "         -2.93013749e-23],\n",
       "        [-2.21984536e-05,  1.36903475e+00,  1.14418495e+00,\n",
       "         -5.79984792e-12, -4.09155359e-10, -3.38366378e-10,\n",
       "         -5.89591838e-26,  9.84808585e-01,  1.82780984e+00,\n",
       "          2.65497515e-23]]),\n",
       " array([[ 5.63554989e-03],\n",
       "        [-2.69505832e+00],\n",
       "        [-2.97892608e+00],\n",
       "        [ 1.46791475e-05],\n",
       "        [ 2.87312148e-05],\n",
       "        [ 1.25520373e-01],\n",
       "        [ 7.17906444e-24],\n",
       "        [-2.32905727e+00],\n",
       "        [ 2.16321790e+00],\n",
       "        [ 9.89227007e-55]])]"
      ]
     },
     "execution_count": 36,
     "metadata": {},
     "output_type": "execute_result"
    }
   ],
   "source": [
    "# printing model coefficients (weights)\n",
    "\n",
    "model.coefs_"
   ]
  },
  {
   "cell_type": "code",
   "execution_count": 37,
   "id": "d5533237-ea46-4a54-a153-e68319282b3f",
   "metadata": {},
   "outputs": [
    {
     "data": {
      "text/plain": [
       "[array([-9.76406531e-04, -1.36888662e+00, -1.14417371e+00, -1.88992894e-01,\n",
       "        -6.21264241e-02, -5.22481763e-03, -4.24725410e-01, -9.84829809e-01,\n",
       "        -1.13673181e-04, -6.41415978e-01]),\n",
       " array([-1.39813894])]"
      ]
     },
     "execution_count": 37,
     "metadata": {},
     "output_type": "execute_result"
    }
   ],
   "source": [
    "model.intercepts_"
   ]
  },
  {
   "cell_type": "code",
   "execution_count": 38,
   "id": "0c7603f0-795e-49f1-a1aa-f65641abe228",
   "metadata": {},
   "outputs": [
    {
     "data": {
      "text/plain": [
       "3"
      ]
     },
     "execution_count": 38,
     "metadata": {},
     "output_type": "execute_result"
    }
   ],
   "source": [
    "# number of neural network layers including input and output layers\n",
    "\n",
    "model.n_layers_"
   ]
  },
  {
   "cell_type": "code",
   "execution_count": 39,
   "id": "85370cee-a8ae-4dc6-80bb-b26f07f39274",
   "metadata": {},
   "outputs": [
    {
     "data": {
      "text/plain": [
       "2414"
      ]
     },
     "execution_count": 39,
     "metadata": {},
     "output_type": "execute_result"
    }
   ],
   "source": [
    "# number of iterations the Neural Network model is trained\n",
    "\n",
    "model.n_iter_"
   ]
  },
  {
   "cell_type": "code",
   "execution_count": 40,
   "id": "cf004bb3-b123-4043-91cd-fef582927f0e",
   "metadata": {},
   "outputs": [
    {
     "data": {
      "text/plain": [
       "1"
      ]
     },
     "execution_count": 40,
     "metadata": {},
     "output_type": "execute_result"
    }
   ],
   "source": [
    "model.n_outputs_"
   ]
  },
  {
   "cell_type": "code",
   "execution_count": null,
   "id": "12f9856f-7e98-4b75-8be8-8c2e36a57529",
   "metadata": {},
   "outputs": [],
   "source": []
  }
 ],
 "metadata": {
  "kernelspec": {
   "display_name": "Python 3 (ipykernel)",
   "language": "python",
   "name": "python3"
  },
  "language_info": {
   "codemirror_mode": {
    "name": "ipython",
    "version": 3
   },
   "file_extension": ".py",
   "mimetype": "text/x-python",
   "name": "python",
   "nbconvert_exporter": "python",
   "pygments_lexer": "ipython3",
   "version": "3.10.13"
  }
 },
 "nbformat": 4,
 "nbformat_minor": 5
}
